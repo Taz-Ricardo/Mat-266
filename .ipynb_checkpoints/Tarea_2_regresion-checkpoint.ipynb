{
 "cells": [
  {
   "cell_type": "code",
   "execution_count": 2,
   "metadata": {},
   "outputs": [],
   "source": [
    "    library(alr3)\n",
    "    library(model) "
   ]
  },
  {
   "cell_type": "code",
   "execution_count": 4,
   "metadata": {},
   "outputs": [
    {
     "data": {
      "text/html": [
       "<table>\n",
       "<caption>A data.frame: 17 × 3</caption>\n",
       "<thead>\n",
       "\t<tr><th scope=col>X_1</th><th scope=col>X_2</th><th scope=col>Y</th></tr>\n",
       "\t<tr><th scope=col>&lt;dbl&gt;</th><th scope=col>&lt;dbl&gt;</th><th scope=col>&lt;dbl&gt;</th></tr>\n",
       "</thead>\n",
       "<tbody>\n",
       "\t<tr><td>17</td><td>42</td><td>90</td></tr>\n",
       "\t<tr><td>19</td><td>45</td><td>71</td></tr>\n",
       "\t<tr><td>19</td><td>45</td><td>76</td></tr>\n",
       "\t<tr><td>20</td><td>29</td><td>63</td></tr>\n",
       "\t<tr><td>20</td><td>29</td><td>63</td></tr>\n",
       "\t<tr><td>20</td><td>29</td><td>80</td></tr>\n",
       "\t<tr><td>20</td><td>29</td><td>80</td></tr>\n",
       "\t<tr><td>21</td><td>93</td><td>80</td></tr>\n",
       "\t<tr><td>21</td><td>93</td><td>64</td></tr>\n",
       "\t<tr><td>21</td><td>93</td><td>82</td></tr>\n",
       "\t<tr><td>21</td><td>93</td><td>66</td></tr>\n",
       "\t<tr><td>25</td><td>34</td><td>75</td></tr>\n",
       "\t<tr><td>25</td><td>34</td><td>82</td></tr>\n",
       "\t<tr><td>27</td><td>98</td><td>99</td></tr>\n",
       "\t<tr><td>28</td><td> 9</td><td>73</td></tr>\n",
       "\t<tr><td>30</td><td>73</td><td>67</td></tr>\n",
       "\t<tr><td>30</td><td>73</td><td>74</td></tr>\n",
       "</tbody>\n",
       "</table>\n"
      ],
      "text/latex": [
       "A data.frame: 17 × 3\n",
       "\\begin{tabular}{lll}\n",
       " X\\_1 & X\\_2 & Y\\\\\n",
       " <dbl> & <dbl> & <dbl>\\\\\n",
       "\\hline\n",
       "\t 17 & 42 & 90\\\\\n",
       "\t 19 & 45 & 71\\\\\n",
       "\t 19 & 45 & 76\\\\\n",
       "\t 20 & 29 & 63\\\\\n",
       "\t 20 & 29 & 63\\\\\n",
       "\t 20 & 29 & 80\\\\\n",
       "\t 20 & 29 & 80\\\\\n",
       "\t 21 & 93 & 80\\\\\n",
       "\t 21 & 93 & 64\\\\\n",
       "\t 21 & 93 & 82\\\\\n",
       "\t 21 & 93 & 66\\\\\n",
       "\t 25 & 34 & 75\\\\\n",
       "\t 25 & 34 & 82\\\\\n",
       "\t 27 & 98 & 99\\\\\n",
       "\t 28 &  9 & 73\\\\\n",
       "\t 30 & 73 & 67\\\\\n",
       "\t 30 & 73 & 74\\\\\n",
       "\\end{tabular}\n"
      ],
      "text/markdown": [
       "\n",
       "A data.frame: 17 × 3\n",
       "\n",
       "| X_1 &lt;dbl&gt; | X_2 &lt;dbl&gt; | Y &lt;dbl&gt; |\n",
       "|---|---|---|\n",
       "| 17 | 42 | 90 |\n",
       "| 19 | 45 | 71 |\n",
       "| 19 | 45 | 76 |\n",
       "| 20 | 29 | 63 |\n",
       "| 20 | 29 | 63 |\n",
       "| 20 | 29 | 80 |\n",
       "| 20 | 29 | 80 |\n",
       "| 21 | 93 | 80 |\n",
       "| 21 | 93 | 64 |\n",
       "| 21 | 93 | 82 |\n",
       "| 21 | 93 | 66 |\n",
       "| 25 | 34 | 75 |\n",
       "| 25 | 34 | 82 |\n",
       "| 27 | 98 | 99 |\n",
       "| 28 |  9 | 73 |\n",
       "| 30 | 73 | 67 |\n",
       "| 30 | 73 | 74 |\n",
       "\n"
      ],
      "text/plain": [
       "   X_1 X_2 Y \n",
       "1  17  42  90\n",
       "2  19  45  71\n",
       "3  19  45  76\n",
       "4  20  29  63\n",
       "5  20  29  63\n",
       "6  20  29  80\n",
       "7  20  29  80\n",
       "8  21  93  80\n",
       "9  21  93  64\n",
       "10 21  93  82\n",
       "11 21  93  66\n",
       "12 25  34  75\n",
       "13 25  34  82\n",
       "14 27  98  99\n",
       "15 28   9  73\n",
       "16 30  73  67\n",
       "17 30  73  74"
      ]
     },
     "metadata": {},
     "output_type": "display_data"
    }
   ],
   "source": [
    "X_1 <- c(17, 19, 19, 20, 20, 20, 20, 21, 21, 21 ,21, 25, 25, 27, 28, 30, 30)\n",
    "X_2 <- c(42, 45, 45, 29, 29, 29, 29, 93, 93, 93, 93, 34, 34, 98, 9, 73, 73)\n",
    "Y <- c(90, 71, 76, 63, 63, 80, 80, 80, 64, 82, 66, 75, 82, 99, 73, 67, 74)\n",
    "data_F <- data.frame(X_1, X_2, Y)\n",
    "data_F"
   ]
  },
  {
   "cell_type": "code",
   "execution_count": 11,
   "metadata": {},
   "outputs": [
    {
     "data": {
      "text/plain": [
       "\n",
       "Call:\n",
       "lm(formula = Y ~ X_1 + X_2, data = data_F)\n",
       "\n",
       "Residuals:\n",
       "     Min       1Q   Median       3Q      Max \n",
       "-13.3764  -9.6597   0.3827   5.7693  21.2085 \n",
       "\n",
       "Coefficients:\n",
       "            Estimate Std. Error t value Pr(>|t|)    \n",
       "(Intercept)  72.2462    14.9067   4.847 0.000259 ***\n",
       "X_1           0.0286     0.6455   0.044 0.965279    \n",
       "X_2           0.0487     0.0876   0.556 0.586984    \n",
       "---\n",
       "Signif. codes:  0 ‘***’ 0.001 ‘**’ 0.01 ‘*’ 0.05 ‘.’ 0.1 ‘ ’ 1\n",
       "\n",
       "Residual standard error: 10.38 on 14 degrees of freedom\n",
       "Multiple R-squared:  0.02267,\tAdjusted R-squared:  -0.1169 \n",
       "F-statistic: 0.1624 on 2 and 14 DF,  p-value: 0.8517\n"
      ]
     },
     "metadata": {},
     "output_type": "display_data"
    }
   ],
   "source": [
    "regresion_2.7 <- lm(Y ~ X_1+X_2, data_F)\n",
    "summary(regresion_2.7)"
   ]
  },
  {
   "cell_type": "markdown",
   "metadata": {},
   "source": [
    "Este modelo ta re weno xd."
   ]
  },
  {
   "cell_type": "code",
   "execution_count": 10,
   "metadata": {},
   "outputs": [
    {
     "data": {
      "text/html": [
       "<style>\n",
       ".dl-inline {width: auto; margin:0; padding: 0}\n",
       ".dl-inline>dt, .dl-inline>dd {float: none; width: auto; display: inline-block}\n",
       ".dl-inline>dt::after {content: \":\\0020\"; padding-right: .5ex}\n",
       ".dl-inline>dt:not(:first-of-type) {padding-left: .5ex}\n",
       "</style><dl class=dl-inline><dt>(Intercept)</dt><dd>72.2461996945564</dd><dt>X_1</dt><dd>0.0286048880243884</dd><dt>X_2</dt><dd>0.0487038556760639</dd></dl>\n"
      ],
      "text/latex": [
       "\\begin{description*}\n",
       "\\item[(Intercept)] 72.2461996945564\n",
       "\\item[X\\textbackslash{}\\_1] 0.0286048880243884\n",
       "\\item[X\\textbackslash{}\\_2] 0.0487038556760639\n",
       "\\end{description*}\n"
      ],
      "text/markdown": [
       "(Intercept)\n",
       ":   72.2461996945564X_1\n",
       ":   0.0286048880243884X_2\n",
       ":   0.0487038556760639\n",
       "\n"
      ],
      "text/plain": [
       "(Intercept)         X_1         X_2 \n",
       "72.24619969  0.02860489  0.04870386 "
      ]
     },
     "metadata": {},
     "output_type": "display_data"
    }
   ],
   "source": [
    "coef(`regresion_2.7`)"
   ]
  },
  {
   "cell_type": "markdown",
   "metadata": {},
   "source": [
    "El modelo queda Y= 72.2462+0.0286*X_1+0.0487*X_2"
   ]
  },
  {
   "cell_type": "code",
   "execution_count": null,
   "metadata": {},
   "outputs": [],
   "source": []
  }
 ],
 "metadata": {
  "kernelspec": {
   "display_name": "R",
   "language": "R",
   "name": "ir"
  },
  "language_info": {
   "codemirror_mode": "r",
   "file_extension": ".r",
   "mimetype": "text/x-r-source",
   "name": "R",
   "pygments_lexer": "r",
   "version": "3.5.2"
  }
 },
 "nbformat": 4,
 "nbformat_minor": 4
}
