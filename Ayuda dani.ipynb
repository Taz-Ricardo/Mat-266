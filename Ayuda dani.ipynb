{
 "cells": [
  {
   "cell_type": "code",
   "execution_count": 1,
   "metadata": {},
   "outputs": [],
   "source": [
    "#library(alr3)\n",
    "#library(car)\n",
    "#library(carData)\n",
    "library(model)\n",
    "#library(readr)\n",
    "library(readxl)\n",
    "#install.packages(\"readr\")"
   ]
  },
  {
   "cell_type": "code",
   "execution_count": 2,
   "metadata": {},
   "outputs": [],
   "source": [
    "data <- read_excel('/home/taz/Documentos/git/Mat-266/data/data_dani_y_pipe.xls')"
   ]
  },
  {
   "cell_type": "code",
   "execution_count": 16,
   "metadata": {},
   "outputs": [],
   "source": [
    "n1 <- read_excel('/home/taz/Documentos/git/Mat-266/data/data_dani_y_pipe_separada.xlsx',sheet='n1')\n",
    "head(n1)"
   ]
  },
  {
   "cell_type": "code",
   "execution_count": 29,
   "metadata": {},
   "outputs": [
    {
     "data": {
      "text/html": [
       "<table>\n",
       "<caption>A tibble: 6 × 11</caption>\n",
       "<thead>\n",
       "\t<tr><th scope=col>n</th><th scope=col>EXP</th><th scope=col>x1</th><th scope=col>x2</th><th scope=col>x3</th><th scope=col>x4</th><th scope=col>x5</th><th scope=col>concetrado</th><th scope=col>exp</th><th scope=col>y modelo</th><th scope=col>error</th></tr>\n",
       "\t<tr><th scope=col>&lt;dbl&gt;</th><th scope=col>&lt;dbl&gt;</th><th scope=col>&lt;dbl&gt;</th><th scope=col>&lt;dbl&gt;</th><th scope=col>&lt;dbl&gt;</th><th scope=col>&lt;dbl&gt;</th><th scope=col>&lt;dbl&gt;</th><th scope=col>&lt;dbl&gt;</th><th scope=col>&lt;dbl&gt;</th><th scope=col>&lt;dbl&gt;</th><th scope=col>&lt;dbl&gt;</th></tr>\n",
       "</thead>\n",
       "<tbody>\n",
       "\t<tr><td>59</td><td>2</td><td> 0.9607843</td><td>-1.0000000</td><td> 0.3333333</td><td> 0.3333333</td><td> 1</td><td>24.5</td><td>23</td><td>0</td><td>1</td></tr>\n",
       "\t<tr><td>32</td><td>2</td><td> 0.9607843</td><td>-1.0000000</td><td> 0.3333333</td><td>-0.3333333</td><td>-1</td><td>22.5</td><td>31</td><td>0</td><td>1</td></tr>\n",
       "\t<tr><td> 6</td><td>1</td><td> 0.9215686</td><td> 1.0000000</td><td>-1.0000000</td><td>-1.0000000</td><td>-1</td><td>22.7</td><td> 9</td><td>0</td><td>1</td></tr>\n",
       "\t<tr><td>10</td><td>1</td><td>-0.9607843</td><td> 1.0000000</td><td> 1.0000000</td><td>-1.0000000</td><td>-1</td><td>11.8</td><td>16</td><td>0</td><td>1</td></tr>\n",
       "\t<tr><td>38</td><td>2</td><td> 0.9607843</td><td> 0.9512195</td><td>-0.3333333</td><td>-0.3333333</td><td>-1</td><td>22.4</td><td>37</td><td>0</td><td>1</td></tr>\n",
       "\t<tr><td>54</td><td>2</td><td>-1.0000000</td><td>-1.0000000</td><td>-0.3333333</td><td> 0.3333333</td><td> 1</td><td>22.2</td><td>18</td><td>0</td><td>1</td></tr>\n",
       "</tbody>\n",
       "</table>\n"
      ],
      "text/latex": [
       "A tibble: 6 × 11\n",
       "\\begin{tabular}{lllllllllll}\n",
       " n & EXP & x1 & x2 & x3 & x4 & x5 & concetrado & exp & y modelo & error\\\\\n",
       " <dbl> & <dbl> & <dbl> & <dbl> & <dbl> & <dbl> & <dbl> & <dbl> & <dbl> & <dbl> & <dbl>\\\\\n",
       "\\hline\n",
       "\t 59 & 2 &  0.9607843 & -1.0000000 &  0.3333333 &  0.3333333 &  1 & 24.5 & 23 & 0 & 1\\\\\n",
       "\t 32 & 2 &  0.9607843 & -1.0000000 &  0.3333333 & -0.3333333 & -1 & 22.5 & 31 & 0 & 1\\\\\n",
       "\t  6 & 1 &  0.9215686 &  1.0000000 & -1.0000000 & -1.0000000 & -1 & 22.7 &  9 & 0 & 1\\\\\n",
       "\t 10 & 1 & -0.9607843 &  1.0000000 &  1.0000000 & -1.0000000 & -1 & 11.8 & 16 & 0 & 1\\\\\n",
       "\t 38 & 2 &  0.9607843 &  0.9512195 & -0.3333333 & -0.3333333 & -1 & 22.4 & 37 & 0 & 1\\\\\n",
       "\t 54 & 2 & -1.0000000 & -1.0000000 & -0.3333333 &  0.3333333 &  1 & 22.2 & 18 & 0 & 1\\\\\n",
       "\\end{tabular}\n"
      ],
      "text/markdown": [
       "\n",
       "A tibble: 6 × 11\n",
       "\n",
       "| n &lt;dbl&gt; | EXP &lt;dbl&gt; | x1 &lt;dbl&gt; | x2 &lt;dbl&gt; | x3 &lt;dbl&gt; | x4 &lt;dbl&gt; | x5 &lt;dbl&gt; | concetrado &lt;dbl&gt; | exp &lt;dbl&gt; | y modelo &lt;dbl&gt; | error &lt;dbl&gt; |\n",
       "|---|---|---|---|---|---|---|---|---|---|---|\n",
       "| 59 | 2 |  0.9607843 | -1.0000000 |  0.3333333 |  0.3333333 |  1 | 24.5 | 23 | 0 | 1 |\n",
       "| 32 | 2 |  0.9607843 | -1.0000000 |  0.3333333 | -0.3333333 | -1 | 22.5 | 31 | 0 | 1 |\n",
       "|  6 | 1 |  0.9215686 |  1.0000000 | -1.0000000 | -1.0000000 | -1 | 22.7 |  9 | 0 | 1 |\n",
       "| 10 | 1 | -0.9607843 |  1.0000000 |  1.0000000 | -1.0000000 | -1 | 11.8 | 16 | 0 | 1 |\n",
       "| 38 | 2 |  0.9607843 |  0.9512195 | -0.3333333 | -0.3333333 | -1 | 22.4 | 37 | 0 | 1 |\n",
       "| 54 | 2 | -1.0000000 | -1.0000000 | -0.3333333 |  0.3333333 |  1 | 22.2 | 18 | 0 | 1 |\n",
       "\n"
      ],
      "text/plain": [
       "  n  EXP x1         x2         x3         x4         x5 concetrado exp y modelo\n",
       "1 59 2    0.9607843 -1.0000000  0.3333333  0.3333333  1 24.5       23  0       \n",
       "2 32 2    0.9607843 -1.0000000  0.3333333 -0.3333333 -1 22.5       31  0       \n",
       "3  6 1    0.9215686  1.0000000 -1.0000000 -1.0000000 -1 22.7        9  0       \n",
       "4 10 1   -0.9607843  1.0000000  1.0000000 -1.0000000 -1 11.8       16  0       \n",
       "5 38 2    0.9607843  0.9512195 -0.3333333 -0.3333333 -1 22.4       37  0       \n",
       "6 54 2   -1.0000000 -1.0000000 -0.3333333  0.3333333  1 22.2       18  0       \n",
       "  error\n",
       "1 1    \n",
       "2 1    \n",
       "3 1    \n",
       "4 1    \n",
       "5 1    \n",
       "6 1    "
      ]
     },
     "metadata": {},
     "output_type": "display_data"
    }
   ],
   "source": [
    "n2 <- read_excel('/home/taz/Documentos/git/Mat-266/data/data_dani_y_pipe_separada.xlsx',sheet='n2')\n",
    "head(n2)"
   ]
  },
  {
   "cell_type": "code",
   "execution_count": 31,
   "metadata": {},
   "outputs": [
    {
     "data": {
      "text/html": [
       "<table>\n",
       "<caption>A tibble: 6 × 11</caption>\n",
       "<thead>\n",
       "\t<tr><th scope=col>n</th><th scope=col>EXP</th><th scope=col>x1</th><th scope=col>x2</th><th scope=col>x3</th><th scope=col>x4</th><th scope=col>x5</th><th scope=col>concetrado</th><th scope=col>exp</th><th scope=col>y modelo</th><th scope=col>error</th></tr>\n",
       "\t<tr><th scope=col>&lt;dbl&gt;</th><th scope=col>&lt;dbl&gt;</th><th scope=col>&lt;dbl&gt;</th><th scope=col>&lt;dbl&gt;</th><th scope=col>&lt;dbl&gt;</th><th scope=col>&lt;dbl&gt;</th><th scope=col>&lt;dbl&gt;</th><th scope=col>&lt;dbl&gt;</th><th scope=col>&lt;dbl&gt;</th><th scope=col>&lt;dbl&gt;</th><th scope=col>&lt;dbl&gt;</th></tr>\n",
       "</thead>\n",
       "<tbody>\n",
       "\t<tr><td> 3</td><td>1</td><td>-1</td><td> 0.9512195</td><td>-1.0000000</td><td>-1.0000000</td><td>-1</td><td>17.2</td><td>13</td><td>0</td><td>1</td></tr>\n",
       "\t<tr><td>13</td><td>1</td><td>-1</td><td>-1.0000000</td><td>-1.0000000</td><td> 1.0000000</td><td>-1</td><td>28.8</td><td> 6</td><td>0</td><td>1</td></tr>\n",
       "\t<tr><td>34</td><td>2</td><td>-1</td><td> 0.9512195</td><td>-0.3333333</td><td>-0.3333333</td><td>-1</td><td>16.8</td><td>33</td><td>0</td><td>1</td></tr>\n",
       "\t<tr><td> 7</td><td>1</td><td>-1</td><td>-1.0000000</td><td> 1.0000000</td><td>-1.0000000</td><td>-1</td><td>14.3</td><td> 8</td><td>0</td><td>1</td></tr>\n",
       "\t<tr><td>36</td><td>2</td><td>-1</td><td> 0.9512195</td><td> 0.3333333</td><td> 0.3333333</td><td>-1</td><td>16.2</td><td>35</td><td>0</td><td>1</td></tr>\n",
       "\t<tr><td>37</td><td>2</td><td>-1</td><td> 0.9512195</td><td> 0.3333333</td><td>-0.3333333</td><td>-1</td><td>14.4</td><td>36</td><td>0</td><td>1</td></tr>\n",
       "</tbody>\n",
       "</table>\n"
      ],
      "text/latex": [
       "A tibble: 6 × 11\n",
       "\\begin{tabular}{lllllllllll}\n",
       " n & EXP & x1 & x2 & x3 & x4 & x5 & concetrado & exp & y modelo & error\\\\\n",
       " <dbl> & <dbl> & <dbl> & <dbl> & <dbl> & <dbl> & <dbl> & <dbl> & <dbl> & <dbl> & <dbl>\\\\\n",
       "\\hline\n",
       "\t  3 & 1 & -1 &  0.9512195 & -1.0000000 & -1.0000000 & -1 & 17.2 & 13 & 0 & 1\\\\\n",
       "\t 13 & 1 & -1 & -1.0000000 & -1.0000000 &  1.0000000 & -1 & 28.8 &  6 & 0 & 1\\\\\n",
       "\t 34 & 2 & -1 &  0.9512195 & -0.3333333 & -0.3333333 & -1 & 16.8 & 33 & 0 & 1\\\\\n",
       "\t  7 & 1 & -1 & -1.0000000 &  1.0000000 & -1.0000000 & -1 & 14.3 &  8 & 0 & 1\\\\\n",
       "\t 36 & 2 & -1 &  0.9512195 &  0.3333333 &  0.3333333 & -1 & 16.2 & 35 & 0 & 1\\\\\n",
       "\t 37 & 2 & -1 &  0.9512195 &  0.3333333 & -0.3333333 & -1 & 14.4 & 36 & 0 & 1\\\\\n",
       "\\end{tabular}\n"
      ],
      "text/markdown": [
       "\n",
       "A tibble: 6 × 11\n",
       "\n",
       "| n &lt;dbl&gt; | EXP &lt;dbl&gt; | x1 &lt;dbl&gt; | x2 &lt;dbl&gt; | x3 &lt;dbl&gt; | x4 &lt;dbl&gt; | x5 &lt;dbl&gt; | concetrado &lt;dbl&gt; | exp &lt;dbl&gt; | y modelo &lt;dbl&gt; | error &lt;dbl&gt; |\n",
       "|---|---|---|---|---|---|---|---|---|---|---|\n",
       "|  3 | 1 | -1 |  0.9512195 | -1.0000000 | -1.0000000 | -1 | 17.2 | 13 | 0 | 1 |\n",
       "| 13 | 1 | -1 | -1.0000000 | -1.0000000 |  1.0000000 | -1 | 28.8 |  6 | 0 | 1 |\n",
       "| 34 | 2 | -1 |  0.9512195 | -0.3333333 | -0.3333333 | -1 | 16.8 | 33 | 0 | 1 |\n",
       "|  7 | 1 | -1 | -1.0000000 |  1.0000000 | -1.0000000 | -1 | 14.3 |  8 | 0 | 1 |\n",
       "| 36 | 2 | -1 |  0.9512195 |  0.3333333 |  0.3333333 | -1 | 16.2 | 35 | 0 | 1 |\n",
       "| 37 | 2 | -1 |  0.9512195 |  0.3333333 | -0.3333333 | -1 | 14.4 | 36 | 0 | 1 |\n",
       "\n"
      ],
      "text/plain": [
       "  n  EXP x1 x2         x3         x4         x5 concetrado exp y modelo error\n",
       "1  3 1   -1  0.9512195 -1.0000000 -1.0000000 -1 17.2       13  0        1    \n",
       "2 13 1   -1 -1.0000000 -1.0000000  1.0000000 -1 28.8        6  0        1    \n",
       "3 34 2   -1  0.9512195 -0.3333333 -0.3333333 -1 16.8       33  0        1    \n",
       "4  7 1   -1 -1.0000000  1.0000000 -1.0000000 -1 14.3        8  0        1    \n",
       "5 36 2   -1  0.9512195  0.3333333  0.3333333 -1 16.2       35  0        1    \n",
       "6 37 2   -1  0.9512195  0.3333333 -0.3333333 -1 14.4       36  0        1    "
      ]
     },
     "metadata": {},
     "output_type": "display_data"
    }
   ],
   "source": [
    "n3 <- read_excel('/home/taz/Documentos/git/Mat-266/data/data_dani_y_pipe_separada.xlsx',sheet='n3')\n",
    "head(n3)"
   ]
  },
  {
   "cell_type": "code",
   "execution_count": 3,
   "metadata": {},
   "outputs": [
    {
     "data": {
      "text/html": [
       "<table>\n",
       "<caption>A tibble: 6 × 32</caption>\n",
       "<thead>\n",
       "\t<tr><th scope=col>Concentrado</th><th scope=col>x1</th><th scope=col>x2</th><th scope=col>x3</th><th scope=col>x4</th><th scope=col>x5</th><th scope=col>x1x2</th><th scope=col>x1x3</th><th scope=col>x1x4</th><th scope=col>x1x5</th><th scope=col>⋯</th><th scope=col>x2x3x4</th><th scope=col>x2x3x5</th><th scope=col>x2x4x5</th><th scope=col>x3x4x5</th><th scope=col>x1x2x3x4</th><th scope=col>x1x2x3x5</th><th scope=col>x1x2x4x5</th><th scope=col>x1x3x4x5</th><th scope=col>x2x3x4x5</th><th scope=col>x1x2x3x4x5</th></tr>\n",
       "\t<tr><th scope=col>&lt;dbl&gt;</th><th scope=col>&lt;dbl&gt;</th><th scope=col>&lt;dbl&gt;</th><th scope=col>&lt;dbl&gt;</th><th scope=col>&lt;dbl&gt;</th><th scope=col>&lt;dbl&gt;</th><th scope=col>&lt;dbl&gt;</th><th scope=col>&lt;dbl&gt;</th><th scope=col>&lt;dbl&gt;</th><th scope=col>&lt;dbl&gt;</th><th scope=col>⋯</th><th scope=col>&lt;dbl&gt;</th><th scope=col>&lt;dbl&gt;</th><th scope=col>&lt;dbl&gt;</th><th scope=col>&lt;dbl&gt;</th><th scope=col>&lt;dbl&gt;</th><th scope=col>&lt;dbl&gt;</th><th scope=col>&lt;dbl&gt;</th><th scope=col>&lt;dbl&gt;</th><th scope=col>&lt;dbl&gt;</th><th scope=col>&lt;dbl&gt;</th></tr>\n",
       "</thead>\n",
       "<tbody>\n",
       "\t<tr><td>22.4</td><td> 0.9607843</td><td>-1</td><td>-1</td><td>-1</td><td>-1</td><td>-0.9607843</td><td>-0.9607843</td><td>-0.9607843</td><td>-0.9607843</td><td>⋯</td><td>-1</td><td>-1</td><td>-1</td><td>-1</td><td>-0.9607843</td><td>-0.9607843</td><td>-0.9607843</td><td>-0.9607843</td><td> 1</td><td> 0.9607843</td></tr>\n",
       "\t<tr><td>30.1</td><td> 0.9607843</td><td>-1</td><td>-1</td><td> 1</td><td>-1</td><td>-0.9607843</td><td>-0.9607843</td><td> 0.9607843</td><td>-0.9607843</td><td>⋯</td><td> 1</td><td>-1</td><td> 1</td><td> 1</td><td>-0.9607843</td><td>-0.9607843</td><td> 0.9607843</td><td> 0.9607843</td><td>-1</td><td>-0.9607843</td></tr>\n",
       "\t<tr><td>23.8</td><td> 0.9607843</td><td>-1</td><td> 1</td><td> 1</td><td>-1</td><td>-0.9607843</td><td> 0.9607843</td><td> 0.9607843</td><td>-0.9607843</td><td>⋯</td><td>-1</td><td> 1</td><td> 1</td><td>-1</td><td> 0.9607843</td><td> 0.9607843</td><td> 0.9607843</td><td>-0.9607843</td><td> 1</td><td> 0.9607843</td></tr>\n",
       "\t<tr><td>20.2</td><td> 0.9607843</td><td>-1</td><td> 1</td><td>-1</td><td>-1</td><td>-0.9607843</td><td> 0.9607843</td><td>-0.9607843</td><td>-0.9607843</td><td>⋯</td><td> 1</td><td> 1</td><td>-1</td><td> 1</td><td> 0.9607843</td><td> 0.9607843</td><td>-0.9607843</td><td> 0.9607843</td><td>-1</td><td>-0.9607843</td></tr>\n",
       "\t<tr><td>19.1</td><td>-1.0000000</td><td>-1</td><td>-1</td><td>-1</td><td>-1</td><td> 1.0000000</td><td> 1.0000000</td><td> 1.0000000</td><td> 1.0000000</td><td>⋯</td><td>-1</td><td>-1</td><td>-1</td><td>-1</td><td> 1.0000000</td><td> 1.0000000</td><td> 1.0000000</td><td> 1.0000000</td><td> 1</td><td>-1.0000000</td></tr>\n",
       "\t<tr><td>28.8</td><td>-1.0000000</td><td>-1</td><td>-1</td><td> 1</td><td>-1</td><td> 1.0000000</td><td> 1.0000000</td><td>-1.0000000</td><td> 1.0000000</td><td>⋯</td><td> 1</td><td>-1</td><td> 1</td><td> 1</td><td> 1.0000000</td><td> 1.0000000</td><td>-1.0000000</td><td>-1.0000000</td><td>-1</td><td> 1.0000000</td></tr>\n",
       "</tbody>\n",
       "</table>\n"
      ],
      "text/latex": [
       "A tibble: 6 × 32\n",
       "\\begin{tabular}{lllllllllllllllllllll}\n",
       " Concentrado & x1 & x2 & x3 & x4 & x5 & x1x2 & x1x3 & x1x4 & x1x5 & ⋯ & x2x3x4 & x2x3x5 & x2x4x5 & x3x4x5 & x1x2x3x4 & x1x2x3x5 & x1x2x4x5 & x1x3x4x5 & x2x3x4x5 & x1x2x3x4x5\\\\\n",
       " <dbl> & <dbl> & <dbl> & <dbl> & <dbl> & <dbl> & <dbl> & <dbl> & <dbl> & <dbl> & ⋯ & <dbl> & <dbl> & <dbl> & <dbl> & <dbl> & <dbl> & <dbl> & <dbl> & <dbl> & <dbl>\\\\\n",
       "\\hline\n",
       "\t 22.4 &  0.9607843 & -1 & -1 & -1 & -1 & -0.9607843 & -0.9607843 & -0.9607843 & -0.9607843 & ⋯ & -1 & -1 & -1 & -1 & -0.9607843 & -0.9607843 & -0.9607843 & -0.9607843 &  1 &  0.9607843\\\\\n",
       "\t 30.1 &  0.9607843 & -1 & -1 &  1 & -1 & -0.9607843 & -0.9607843 &  0.9607843 & -0.9607843 & ⋯ &  1 & -1 &  1 &  1 & -0.9607843 & -0.9607843 &  0.9607843 &  0.9607843 & -1 & -0.9607843\\\\\n",
       "\t 23.8 &  0.9607843 & -1 &  1 &  1 & -1 & -0.9607843 &  0.9607843 &  0.9607843 & -0.9607843 & ⋯ & -1 &  1 &  1 & -1 &  0.9607843 &  0.9607843 &  0.9607843 & -0.9607843 &  1 &  0.9607843\\\\\n",
       "\t 20.2 &  0.9607843 & -1 &  1 & -1 & -1 & -0.9607843 &  0.9607843 & -0.9607843 & -0.9607843 & ⋯ &  1 &  1 & -1 &  1 &  0.9607843 &  0.9607843 & -0.9607843 &  0.9607843 & -1 & -0.9607843\\\\\n",
       "\t 19.1 & -1.0000000 & -1 & -1 & -1 & -1 &  1.0000000 &  1.0000000 &  1.0000000 &  1.0000000 & ⋯ & -1 & -1 & -1 & -1 &  1.0000000 &  1.0000000 &  1.0000000 &  1.0000000 &  1 & -1.0000000\\\\\n",
       "\t 28.8 & -1.0000000 & -1 & -1 &  1 & -1 &  1.0000000 &  1.0000000 & -1.0000000 &  1.0000000 & ⋯ &  1 & -1 &  1 &  1 &  1.0000000 &  1.0000000 & -1.0000000 & -1.0000000 & -1 &  1.0000000\\\\\n",
       "\\end{tabular}\n"
      ],
      "text/markdown": [
       "\n",
       "A tibble: 6 × 32\n",
       "\n",
       "| Concentrado &lt;dbl&gt; | x1 &lt;dbl&gt; | x2 &lt;dbl&gt; | x3 &lt;dbl&gt; | x4 &lt;dbl&gt; | x5 &lt;dbl&gt; | x1x2 &lt;dbl&gt; | x1x3 &lt;dbl&gt; | x1x4 &lt;dbl&gt; | x1x5 &lt;dbl&gt; | ⋯ ⋯ | x2x3x4 &lt;dbl&gt; | x2x3x5 &lt;dbl&gt; | x2x4x5 &lt;dbl&gt; | x3x4x5 &lt;dbl&gt; | x1x2x3x4 &lt;dbl&gt; | x1x2x3x5 &lt;dbl&gt; | x1x2x4x5 &lt;dbl&gt; | x1x3x4x5 &lt;dbl&gt; | x2x3x4x5 &lt;dbl&gt; | x1x2x3x4x5 &lt;dbl&gt; |\n",
       "|---|---|---|---|---|---|---|---|---|---|---|---|---|---|---|---|---|---|---|---|---|\n",
       "| 22.4 |  0.9607843 | -1 | -1 | -1 | -1 | -0.9607843 | -0.9607843 | -0.9607843 | -0.9607843 | ⋯ | -1 | -1 | -1 | -1 | -0.9607843 | -0.9607843 | -0.9607843 | -0.9607843 |  1 |  0.9607843 |\n",
       "| 30.1 |  0.9607843 | -1 | -1 |  1 | -1 | -0.9607843 | -0.9607843 |  0.9607843 | -0.9607843 | ⋯ |  1 | -1 |  1 |  1 | -0.9607843 | -0.9607843 |  0.9607843 |  0.9607843 | -1 | -0.9607843 |\n",
       "| 23.8 |  0.9607843 | -1 |  1 |  1 | -1 | -0.9607843 |  0.9607843 |  0.9607843 | -0.9607843 | ⋯ | -1 |  1 |  1 | -1 |  0.9607843 |  0.9607843 |  0.9607843 | -0.9607843 |  1 |  0.9607843 |\n",
       "| 20.2 |  0.9607843 | -1 |  1 | -1 | -1 | -0.9607843 |  0.9607843 | -0.9607843 | -0.9607843 | ⋯ |  1 |  1 | -1 |  1 |  0.9607843 |  0.9607843 | -0.9607843 |  0.9607843 | -1 | -0.9607843 |\n",
       "| 19.1 | -1.0000000 | -1 | -1 | -1 | -1 |  1.0000000 |  1.0000000 |  1.0000000 |  1.0000000 | ⋯ | -1 | -1 | -1 | -1 |  1.0000000 |  1.0000000 |  1.0000000 |  1.0000000 |  1 | -1.0000000 |\n",
       "| 28.8 | -1.0000000 | -1 | -1 |  1 | -1 |  1.0000000 |  1.0000000 | -1.0000000 |  1.0000000 | ⋯ |  1 | -1 |  1 |  1 |  1.0000000 |  1.0000000 | -1.0000000 | -1.0000000 | -1 |  1.0000000 |\n",
       "\n"
      ],
      "text/plain": [
       "  Concentrado x1         x2 x3 x4 x5 x1x2       x1x3       x1x4      \n",
       "1 22.4         0.9607843 -1 -1 -1 -1 -0.9607843 -0.9607843 -0.9607843\n",
       "2 30.1         0.9607843 -1 -1  1 -1 -0.9607843 -0.9607843  0.9607843\n",
       "3 23.8         0.9607843 -1  1  1 -1 -0.9607843  0.9607843  0.9607843\n",
       "4 20.2         0.9607843 -1  1 -1 -1 -0.9607843  0.9607843 -0.9607843\n",
       "5 19.1        -1.0000000 -1 -1 -1 -1  1.0000000  1.0000000  1.0000000\n",
       "6 28.8        -1.0000000 -1 -1  1 -1  1.0000000  1.0000000 -1.0000000\n",
       "  x1x5       ⋯ x2x3x4 x2x3x5 x2x4x5 x3x4x5 x1x2x3x4   x1x2x3x5   x1x2x4x5  \n",
       "1 -0.9607843 ⋯ -1     -1     -1     -1     -0.9607843 -0.9607843 -0.9607843\n",
       "2 -0.9607843 ⋯  1     -1      1      1     -0.9607843 -0.9607843  0.9607843\n",
       "3 -0.9607843 ⋯ -1      1      1     -1      0.9607843  0.9607843  0.9607843\n",
       "4 -0.9607843 ⋯  1      1     -1      1      0.9607843  0.9607843 -0.9607843\n",
       "5  1.0000000 ⋯ -1     -1     -1     -1      1.0000000  1.0000000  1.0000000\n",
       "6  1.0000000 ⋯  1     -1      1      1      1.0000000  1.0000000 -1.0000000\n",
       "  x1x3x4x5   x2x3x4x5 x1x2x3x4x5\n",
       "1 -0.9607843  1        0.9607843\n",
       "2  0.9607843 -1       -0.9607843\n",
       "3 -0.9607843  1        0.9607843\n",
       "4  0.9607843 -1       -0.9607843\n",
       "5  1.0000000  1       -1.0000000\n",
       "6 -1.0000000 -1        1.0000000"
      ]
     },
     "metadata": {},
     "output_type": "display_data"
    }
   ],
   "source": [
    "head(data)"
   ]
  },
  {
   "cell_type": "code",
   "execution_count": 34,
   "metadata": {},
   "outputs": [
    {
     "data": {
      "text/plain": [
       "\n",
       "Call:\n",
       "lm(formula = Concetrado ~ x1 + x2 + x3 + x4 + x5 + x1 * x2 + \n",
       "    x1 * x3 + x1 * x4 + x1 * x5 + x2 * x3 + x2 * x4 + x2 * x5 + \n",
       "    x3 * x4 + x3 * x5 + x4 * x5 + x1 * x2 * x3 + x1 * x2 * x4 + \n",
       "    x1 * x2 * x5 + x1 * x3 * x4 + x1 * x3 * x5 + x1 * x4 * x5 + \n",
       "    x2 * x3 * x4 + x2 * x3 * x5 + x2 * x4 * x5 + x3 * x4 * x5 + \n",
       "    x1 * x2 * x3 * x4 + x1 * x3 * x4 * x5 + x1 * x2 * x4 * x5 + \n",
       "    x1 * x2 * x3 * x5 + x2 * x3 * x4 * x5 + x1 * x2 * x3 * x4 * \n",
       "    x5, data = n1)\n",
       "\n",
       "Residuals:\n",
       "     Min       1Q   Median       3Q      Max \n",
       "-0.18662 -0.02972  0.00000  0.03473  0.15565 \n",
       "\n",
       "Coefficients: (11 not defined because of singularities)\n",
       "                Estimate Std. Error t value Pr(>|t|)    \n",
       "(Intercept)     21.20332    0.65233  32.504 7.76e-14 ***\n",
       "x1               1.97968    0.48607   4.073  0.00132 ** \n",
       "x2              -0.79212    0.66455  -1.192  0.25458    \n",
       "x3              12.25822   14.68412   0.835  0.41891    \n",
       "x4              18.45572   14.68783   1.257  0.23103    \n",
       "x5              -0.10892    0.44380  -0.245  0.80995    \n",
       "x1:x2           -0.59396    0.48861  -1.216  0.24575    \n",
       "x1:x3          -17.04319   16.59562  -1.027  0.32317    \n",
       "x1:x4          -17.82437   16.62459  -1.072  0.30315    \n",
       "x1:x5           -0.02029    0.04888  -0.415  0.68483    \n",
       "x2:x3           15.31082   14.66568   1.044  0.31552    \n",
       "x2:x4           15.62435   14.69056   1.064  0.30688    \n",
       "x2:x5           -0.35351    0.44629  -0.792  0.44252    \n",
       "x3:x4           -0.52006    0.86105  -0.604  0.55625    \n",
       "x3:x5            0.03293    0.18476   0.178  0.86130    \n",
       "x4:x5           -0.13009    0.13202  -0.985  0.34242    \n",
       "x1:x2:x3       -17.51096   16.61514  -1.054  0.31112    \n",
       "x1:x2:x4       -17.48820   16.62027  -1.052  0.31186    \n",
       "x1:x2:x5              NA         NA      NA       NA    \n",
       "x1:x3:x4        -0.48298    0.89533  -0.539  0.59870    \n",
       "x1:x3:x5              NA         NA      NA       NA    \n",
       "x1:x4:x5              NA         NA      NA       NA    \n",
       "x2:x3:x4        -0.09554    0.85143  -0.112  0.91237    \n",
       "x2:x3:x5              NA         NA      NA       NA    \n",
       "x2:x4:x5              NA         NA      NA       NA    \n",
       "x3:x4:x5              NA         NA      NA       NA    \n",
       "x1:x2:x3:x4     -0.38865    0.89175  -0.436  0.67011    \n",
       "x1:x3:x4:x5           NA         NA      NA       NA    \n",
       "x1:x2:x4:x5           NA         NA      NA       NA    \n",
       "x1:x2:x3:x5           NA         NA      NA       NA    \n",
       "x2:x3:x4:x5           NA         NA      NA       NA    \n",
       "x1:x2:x3:x4:x5        NA         NA      NA       NA    \n",
       "---\n",
       "Signif. codes:  0 ‘***’ 0.001 ‘**’ 0.01 ‘*’ 0.05 ‘.’ 0.1 ‘ ’ 1\n",
       "\n",
       "Residual standard error: 0.1162 on 13 degrees of freedom\n",
       "Multiple R-squared:  0.9997,\tAdjusted R-squared:  0.9992 \n",
       "F-statistic:  2022 on 20 and 13 DF,  p-value: < 2.2e-16\n"
      ]
     },
     "metadata": {},
     "output_type": "display_data"
    }
   ],
   "source": [
    "regresion_saturada_n1 <- lm(Concetrado ~x1+x2+x3+x4+x5+x1*x2+x1*x3+x1*x4+x1*x5+x2*x3+x2*x4+x2*x5+x3*x4+x3*x5+x4*x5+x1*x2*x3+x1*x2*x4+x1*x2*x5+x1*x3*x4+x1*x3*x5+x1*x4*x5+x2*x3*x4+x2*x3*x5+x2*x4*x5+x3*x4*x5+x1*x2*x3*x4+x1*x3*x4*x5+x1*x2*x4*x5+x1*x2*x3*x5+x2*x3*x4*x5+x1*x2*x3*x4*x5\n",
    ", data=n1) \n",
    "\n",
    "summary(regresion_saturada_n1) #modelo saturado de n1"
   ]
  },
  {
   "cell_type": "code",
   "execution_count": 33,
   "metadata": {},
   "outputs": [
    {
     "name": "stderr",
     "output_type": "stream",
     "text": [
      "Warning message in summary.lm(regresion_saturada_n2):\n",
      "“essentially perfect fit: summary may be unreliable”\n"
     ]
    },
    {
     "data": {
      "text/plain": [
       "\n",
       "Call:\n",
       "lm(formula = concetrado ~ x1 + x2 + x3 + x4 + x5 + x1 * x2 + \n",
       "    x1 * x3 + x1 * x4 + x1 * x5 + x2 * x3 + x2 * x4 + x2 * x5 + \n",
       "    x3 * x4 + x3 * x5 + x4 * x5 + x1 * x2 * x3 + x1 * x2 * x4 + \n",
       "    x1 * x2 * x5 + x1 * x3 * x4 + x1 * x3 * x5 + x1 * x4 * x5 + \n",
       "    x2 * x3 * x4 + x2 * x3 * x5 + x2 * x4 * x5 + x3 * x4 * x5 + \n",
       "    x1 * x2 * x3 * x4 + x1 * x3 * x4 * x5 + x1 * x2 * x4 * x5 + \n",
       "    x1 * x2 * x3 * x5 + x2 * x3 * x4 * x5 + x1 * x2 * x3 * x4 * \n",
       "    x5, data = n2)\n",
       "\n",
       "Residuals:\n",
       "         1          2          3          4          5          6          7 \n",
       " 2.929e-30  6.926e-30  4.173e-28 -3.976e-29  9.438e-15  1.521e-30 -9.438e-15 \n",
       "         8          9         10         11         12         13         14 \n",
       " 1.826e-28 -3.146e-15  2.105e-27  2.310e-27  3.146e-15  1.851e-30 -4.327e-30 \n",
       "        15         16 \n",
       " 1.010e-28 -7.199e-29 \n",
       "\n",
       "Coefficients: (17 not defined because of singularities)\n",
       "                 Estimate Std. Error    t value Pr(>|t|)    \n",
       "(Intercept)     1.402e+01  1.555e-12  9.018e+12 7.06e-14 ***\n",
       "x1              8.738e+00  1.616e-12  5.407e+12 1.18e-13 ***\n",
       "x2              5.211e+01  6.121e-12  8.514e+12 7.48e-14 ***\n",
       "x3             -2.050e+00  5.771e-12 -3.552e+11 1.79e-12 ***\n",
       "x4              1.452e+00  2.421e-13  5.998e+12 1.06e-13 ***\n",
       "x5              4.484e+01  7.153e-12  6.270e+12 1.02e-13 ***\n",
       "x1:x2          -5.227e+01  6.370e-12 -8.207e+12 7.76e-14 ***\n",
       "x1:x3           2.652e+01  4.387e-12  6.045e+12 1.05e-13 ***\n",
       "x1:x4          -2.303e+01  4.821e-12 -4.776e+12 1.33e-13 ***\n",
       "x1:x5          -4.461e+01  7.444e-12 -5.993e+12 1.06e-13 ***\n",
       "x2:x3           1.958e+01  4.417e-12  4.432e+12 1.44e-13 ***\n",
       "x2:x4          -1.779e+01  4.843e-12 -3.674e+12 1.73e-13 ***\n",
       "x2:x5                  NA         NA         NA       NA    \n",
       "x3:x4          -2.250e-01  1.583e-14 -1.421e+13 4.48e-14 ***\n",
       "x3:x5                  NA         NA         NA       NA    \n",
       "x4:x5           5.055e+00  2.826e-13  1.789e+13 3.56e-14 ***\n",
       "x1:x2:x3       -4.831e-12  6.154e-12 -7.850e-01    0.576    \n",
       "x1:x2:x4               NA         NA         NA       NA    \n",
       "x1:x2:x5               NA         NA         NA       NA    \n",
       "x1:x3:x4               NA         NA         NA       NA    \n",
       "x1:x3:x5               NA         NA         NA       NA    \n",
       "x1:x4:x5               NA         NA         NA       NA    \n",
       "x2:x3:x4               NA         NA         NA       NA    \n",
       "x2:x3:x5               NA         NA         NA       NA    \n",
       "x2:x4:x5               NA         NA         NA       NA    \n",
       "x3:x4:x5               NA         NA         NA       NA    \n",
       "x1:x2:x3:x4            NA         NA         NA       NA    \n",
       "x1:x3:x4:x5            NA         NA         NA       NA    \n",
       "x1:x2:x4:x5            NA         NA         NA       NA    \n",
       "x1:x2:x3:x5            NA         NA         NA       NA    \n",
       "x2:x3:x4:x5            NA         NA         NA       NA    \n",
       "x1:x2:x3:x4:x5         NA         NA         NA       NA    \n",
       "---\n",
       "Signif. codes:  0 ‘***’ 0.001 ‘**’ 0.01 ‘*’ 0.05 ‘.’ 0.1 ‘ ’ 1\n",
       "\n",
       "Residual standard error: 1.407e-14 on 1 degrees of freedom\n",
       "Multiple R-squared:      1,\tAdjusted R-squared:      1 \n",
       "F-statistic: 5.596e+28 on 14 and 1 DF,  p-value: 3.313e-15\n"
      ]
     },
     "metadata": {},
     "output_type": "display_data"
    }
   ],
   "source": [
    "regresion_saturada_n2 <- lm(concetrado ~x1+x2+x3+x4+x5+x1*x2+x1*x3+x1*x4+x1*x5+x2*x3+x2*x4+x2*x5+x3*x4+x3*x5+x4*x5+x1*x2*x3+x1*x2*x4+x1*x2*x5+x1*x3*x4+x1*x3*x5+x1*x4*x5+x2*x3*x4+x2*x3*x5+x2*x4*x5+x3*x4*x5+x1*x2*x3*x4+x1*x3*x4*x5+x1*x2*x4*x5+x1*x2*x3*x5+x2*x3*x4*x5+x1*x2*x3*x4*x5\n",
    ", data=n2) \n",
    "\n",
    "summary(regresion_saturada_n2) #modelo saturado de n2"
   ]
  },
  {
   "cell_type": "code",
   "execution_count": 37,
   "metadata": {},
   "outputs": [
    {
     "data": {
      "text/plain": [
       "\n",
       "Call:\n",
       "lm(formula = concetrado ~ x1 + x2 + x3 + x4 + x5 + x1 * x2 + \n",
       "    x1 * x3 + x1 * x4 + x1 * x5 + x2 * x3 + x2 * x4 + x2 * x5 + \n",
       "    x3 * x4 + x3 * x5 + x4 * x5 + x1 * x2 * x3 + x1 * x2 * x4 + \n",
       "    x1 * x2 * x5 + x1 * x3 * x4 + x1 * x3 * x5 + x1 * x4 * x5 + \n",
       "    x2 * x3 * x4 + x2 * x3 * x5 + x2 * x4 * x5 + x3 * x4 * x5 + \n",
       "    x1 * x2 * x3 * x4 + x1 * x3 * x4 * x5 + x1 * x2 * x4 * x5 + \n",
       "    x1 * x2 * x3 * x5 + x2 * x3 * x4 * x5 + x1 * x2 * x3 * x4 * \n",
       "    x5, data = n3)\n",
       "\n",
       "Residuals:\n",
       "         1          2          3          4          5          6          7 \n",
       "-1.000e-02 -1.171e-17  3.000e-02  2.168e-18 -3.000e-02 -5.239e-16 -5.638e-18 \n",
       "         8          9         10 \n",
       " 1.000e-02  4.770e-18 -1.605e-16 \n",
       "\n",
       "Coefficients: (23 not defined because of singularities)\n",
       "                 Estimate Std. Error t value Pr(>|t|)  \n",
       "(Intercept)     -70.80831    3.20203 -22.114   0.0288 *\n",
       "x1              -89.72175    3.19868 -28.050   0.0227 *\n",
       "x2             -103.30364    3.56969 -28.939   0.0220 *\n",
       "x3              -12.06789    0.40788 -29.587   0.0215 *\n",
       "x4                2.78250    0.09155  30.394   0.0209 *\n",
       "x5                     NA         NA      NA       NA  \n",
       "x1:x2          -100.77958    3.60323 -27.969   0.0228 *\n",
       "x1:x3            -8.04883    0.40587 -19.831   0.0321 *\n",
       "x1:x4                  NA         NA      NA       NA  \n",
       "x1:x5                  NA         NA      NA       NA  \n",
       "x2:x3             0.44844    0.09398   4.772   0.1315  \n",
       "x2:x4                  NA         NA      NA       NA  \n",
       "x2:x5                  NA         NA      NA       NA  \n",
       "x3:x4            -0.11250    0.05031  -2.236   0.2677  \n",
       "x3:x5                  NA         NA      NA       NA  \n",
       "x4:x5                  NA         NA      NA       NA  \n",
       "x1:x2:x3               NA         NA      NA       NA  \n",
       "x1:x2:x4               NA         NA      NA       NA  \n",
       "x1:x2:x5               NA         NA      NA       NA  \n",
       "x1:x3:x4               NA         NA      NA       NA  \n",
       "x1:x3:x5               NA         NA      NA       NA  \n",
       "x1:x4:x5               NA         NA      NA       NA  \n",
       "x2:x3:x4               NA         NA      NA       NA  \n",
       "x2:x3:x5               NA         NA      NA       NA  \n",
       "x2:x4:x5               NA         NA      NA       NA  \n",
       "x3:x4:x5               NA         NA      NA       NA  \n",
       "x1:x2:x3:x4            NA         NA      NA       NA  \n",
       "x1:x3:x4:x5            NA         NA      NA       NA  \n",
       "x1:x2:x4:x5            NA         NA      NA       NA  \n",
       "x1:x2:x3:x5            NA         NA      NA       NA  \n",
       "x2:x3:x4:x5            NA         NA      NA       NA  \n",
       "x1:x2:x3:x4:x5         NA         NA      NA       NA  \n",
       "---\n",
       "Signif. codes:  0 ‘***’ 0.001 ‘**’ 0.01 ‘*’ 0.05 ‘.’ 0.1 ‘ ’ 1\n",
       "\n",
       "Residual standard error: 0.04472 on 1 degrees of freedom\n",
       "Multiple R-squared:      1,\tAdjusted R-squared:  0.9999 \n",
       "F-statistic: 1.104e+04 on 8 and 1 DF,  p-value: 0.007359\n"
      ]
     },
     "metadata": {},
     "output_type": "display_data"
    }
   ],
   "source": [
    "regresion_saturada_n3 <- lm(concetrado ~x1+x2+x3+x4+x5+x1*x2+x1*x3+x1*x4+x1*x5+x2*x3+x2*x4+x2*x5+x3*x4+x3*x5+x4*x5+x1*x2*x3+x1*x2*x4+x1*x2*x5+x1*x3*x4+x1*x3*x5+x1*x4*x5+x2*x3*x4+x2*x3*x5+x2*x4*x5+x3*x4*x5+x1*x2*x3*x4+x1*x3*x4*x5+x1*x2*x4*x5+x1*x2*x3*x5+x2*x3*x4*x5+x1*x2*x3*x4*x5\n",
    ", data=n3) \n",
    "\n",
    "summary(regresion_saturada_n3) #modelo saturado de n3"
   ]
  },
  {
   "cell_type": "code",
   "execution_count": 36,
   "metadata": {},
   "outputs": [
    {
     "data": {
      "text/html": [
       "<style>\n",
       ".list-inline {list-style: none; margin:0; padding: 0}\n",
       ".list-inline>li {display: inline-block}\n",
       ".list-inline>li:not(:last-child)::after {content: \"\\00b7\"; padding: 0 .5ex}\n",
       "</style>\n",
       "<ol class=list-inline><li>17.2</li><li>28.8</li><li>16.8</li><li>14.3</li><li>16.2</li><li>14.4</li><li>20.2</li><li>15.6</li><li>21.5</li><li>15.7</li></ol>\n"
      ],
      "text/latex": [
       "\\begin{enumerate*}\n",
       "\\item 17.2\n",
       "\\item 28.8\n",
       "\\item 16.8\n",
       "\\item 14.3\n",
       "\\item 16.2\n",
       "\\item 14.4\n",
       "\\item 20.2\n",
       "\\item 15.6\n",
       "\\item 21.5\n",
       "\\item 15.7\n",
       "\\end{enumerate*}\n"
      ],
      "text/markdown": [
       "1. 17.2\n",
       "2. 28.8\n",
       "3. 16.8\n",
       "4. 14.3\n",
       "5. 16.2\n",
       "6. 14.4\n",
       "7. 20.2\n",
       "8. 15.6\n",
       "9. 21.5\n",
       "10. 15.7\n",
       "\n",
       "\n"
      ],
      "text/plain": [
       " [1] 17.2 28.8 16.8 14.3 16.2 14.4 20.2 15.6 21.5 15.7"
      ]
     },
     "metadata": {},
     "output_type": "display_data"
    }
   ],
   "source": [
    "n3$concetrado"
   ]
  },
  {
   "cell_type": "code",
   "execution_count": 18,
   "metadata": {},
   "outputs": [
    {
     "data": {
      "text/plain": [
       "\n",
       "Call:\n",
       "lm(formula = Concetrado ~ x1 + x2 + x3 + x4 + x5 + x1 * x2 + \n",
       "    x1 * x3 + x1 * x4 + x1 * x5 + x2 * x3 + x2 * x4 + x2 * x5 + \n",
       "    x3 * x4 + x3 * x5 + x4 * x5 + x1 * x2 * x3 + x1 * x2 * x4 + \n",
       "    x1 * x2 * x5 + x1 * x3 * x4 + x1 * x3 * x5 + x1 * x4 * x5 + \n",
       "    x2 * x3 * x4 + x2 * x3 * x5 + x2 * x4 * x5 + x3 * x4 * x5 + \n",
       "    x1 * x2 * x3 * x4 + x1 * x3 * x4 * x5 + x1 * x2 * x4 * x5 + \n",
       "    x1 * x2 * x3 * x5 + x2 * x3 * x4 * x5 + x1 * x2 * x3 * x4 * \n",
       "    x5, data = n1)\n",
       "\n",
       "Residuals:\n",
       "     Min       1Q   Median       3Q      Max \n",
       "-0.18662 -0.02972  0.00000  0.03473  0.15565 \n",
       "\n",
       "Coefficients: (11 not defined because of singularities)\n",
       "                Estimate Std. Error t value Pr(>|t|)    \n",
       "(Intercept)     21.20332    0.65233  32.504 7.76e-14 ***\n",
       "x1               1.97968    0.48607   4.073  0.00132 ** \n",
       "x2              -0.79212    0.66455  -1.192  0.25458    \n",
       "x3              12.25822   14.68412   0.835  0.41891    \n",
       "x4              18.45572   14.68783   1.257  0.23103    \n",
       "x5              -0.10892    0.44380  -0.245  0.80995    \n",
       "x1:x2           -0.59396    0.48861  -1.216  0.24575    \n",
       "x1:x3          -17.04319   16.59562  -1.027  0.32317    \n",
       "x1:x4          -17.82437   16.62459  -1.072  0.30315    \n",
       "x1:x5           -0.02029    0.04888  -0.415  0.68483    \n",
       "x2:x3           15.31082   14.66568   1.044  0.31552    \n",
       "x2:x4           15.62435   14.69056   1.064  0.30688    \n",
       "x2:x5           -0.35351    0.44629  -0.792  0.44252    \n",
       "x3:x4           -0.52006    0.86105  -0.604  0.55625    \n",
       "x3:x5            0.03293    0.18476   0.178  0.86130    \n",
       "x4:x5           -0.13009    0.13202  -0.985  0.34242    \n",
       "x1:x2:x3       -17.51096   16.61514  -1.054  0.31112    \n",
       "x1:x2:x4       -17.48820   16.62027  -1.052  0.31186    \n",
       "x1:x2:x5              NA         NA      NA       NA    \n",
       "x1:x3:x4        -0.48298    0.89533  -0.539  0.59870    \n",
       "x1:x3:x5              NA         NA      NA       NA    \n",
       "x1:x4:x5              NA         NA      NA       NA    \n",
       "x2:x3:x4        -0.09554    0.85143  -0.112  0.91237    \n",
       "x2:x3:x5              NA         NA      NA       NA    \n",
       "x2:x4:x5              NA         NA      NA       NA    \n",
       "x3:x4:x5              NA         NA      NA       NA    \n",
       "x1:x2:x3:x4     -0.38865    0.89175  -0.436  0.67011    \n",
       "x1:x3:x4:x5           NA         NA      NA       NA    \n",
       "x1:x2:x4:x5           NA         NA      NA       NA    \n",
       "x1:x2:x3:x5           NA         NA      NA       NA    \n",
       "x2:x3:x4:x5           NA         NA      NA       NA    \n",
       "x1:x2:x3:x4:x5        NA         NA      NA       NA    \n",
       "---\n",
       "Signif. codes:  0 ‘***’ 0.001 ‘**’ 0.01 ‘*’ 0.05 ‘.’ 0.1 ‘ ’ 1\n",
       "\n",
       "Residual standard error: 0.1162 on 13 degrees of freedom\n",
       "Multiple R-squared:  0.9997,\tAdjusted R-squared:  0.9992 \n",
       "F-statistic:  2022 on 20 and 13 DF,  p-value: < 2.2e-16\n"
      ]
     },
     "metadata": {},
     "output_type": "display_data"
    }
   ],
   "source": [
    "regresion_saturada_n1 <- lm(Concetrado ~x1+x2+x3+x4+x5+x1*x2+x1*x3+x1*x4+x1*x5+x2*x3+x2*x4+x2*x5+x3*x4+x3*x5+x4*x5+x1*x2*x3+x1*x2*x4+x1*x2*x5+x1*x3*x4+x1*x3*x5+x1*x4*x5+x2*x3*x4+x2*x3*x5+x2*x4*x5+x3*x4*x5+x1*x2*x3*x4+x1*x3*x4*x5+x1*x2*x4*x5+x1*x2*x3*x5+x2*x3*x4*x5+x1*x2*x3*x4*x5\n",
    ", data=n1) \n",
    "\n",
    "summary(regresion_saturada_n1) #Regresión con 10% de significancía."
   ]
  },
  {
   "cell_type": "code",
   "execution_count": 4,
   "metadata": {},
   "outputs": [
    {
     "data": {
      "text/plain": [
       "\n",
       "Call:\n",
       "lm(formula = Concentrado ~ x1 + x2 + x3 + x4 + x1x2 + x1x3 + \n",
       "    x1x4 + x2x3 + x3x4 + x1x3x4, data = data)\n",
       "\n",
       "Residuals:\n",
       "     Min       1Q   Median       3Q      Max \n",
       "-0.92116 -0.35727  0.01146  0.33518  0.89801 \n",
       "\n",
       "Coefficients:\n",
       "            Estimate Std. Error t value Pr(>|t|)    \n",
       "(Intercept) 21.02901    0.08856 237.446  < 2e-16 ***\n",
       "x1           2.51477    0.09044  27.807  < 2e-16 ***\n",
       "x2          -1.02488    0.09044 -11.333 3.59e-12 ***\n",
       "x3          -3.40052    0.12783 -26.602  < 2e-16 ***\n",
       "x4           3.09516    0.12760  24.258  < 2e-16 ***\n",
       "x1x2         0.15963    0.09230   1.730  0.09433 .  \n",
       "x1x3         0.67003    0.13015   5.148 1.68e-05 ***\n",
       "x1x4        -0.41609    0.13016  -3.197  0.00335 ** \n",
       "x2x3        -0.43360    0.13087  -3.313  0.00248 ** \n",
       "x3x4        -1.21971    0.13650  -8.936 7.95e-10 ***\n",
       "x1x3x4       0.30054    0.13921   2.159  0.03927 *  \n",
       "---\n",
       "Signif. codes:  0 ‘***’ 0.001 ‘**’ 0.01 ‘*’ 0.05 ‘.’ 0.1 ‘ ’ 1\n",
       "\n",
       "Residual standard error: 0.5509 on 29 degrees of freedom\n",
       "Multiple R-squared:  0.9875,\tAdjusted R-squared:  0.9832 \n",
       "F-statistic: 229.8 on 10 and 29 DF,  p-value: < 2.2e-16\n"
      ]
     },
     "metadata": {},
     "output_type": "display_data"
    }
   ],
   "source": [
    "regresion_10 <- lm(Concentrado ~x1+x2+x3+x4+x1x2+x1x3+x1x4+x2x3+x3x4+x1x3x4\n",
    ", data=data) \n",
    "\n",
    "summary(regresion_10) #Regresión con 10% de significancía."
   ]
  },
  {
   "cell_type": "code",
   "execution_count": 5,
   "metadata": {},
   "outputs": [
    {
     "data": {
      "text/plain": [
       "\n",
       "Call:\n",
       "lm(formula = Concentrado ~ x1 + x2 + x3 + x4 + x1x3 + x1x4 + \n",
       "    x2x3 + x3x4 + x1x3x4, data = data)\n",
       "\n",
       "Residuals:\n",
       "     Min       1Q   Median       3Q      Max \n",
       "-1.11029 -0.33877 -0.01543  0.36716  0.92998 \n",
       "\n",
       "Coefficients:\n",
       "            Estimate Std. Error t value Pr(>|t|)    \n",
       "(Intercept) 21.03082    0.09145 229.973  < 2e-16 ***\n",
       "x1           2.48738    0.09195  27.052  < 2e-16 ***\n",
       "x2          -1.01988    0.09334 -10.926 5.59e-12 ***\n",
       "x3          -3.40593    0.13197 -25.809  < 2e-16 ***\n",
       "x4           3.09465    0.13176  23.487  < 2e-16 ***\n",
       "x1x3         0.66961    0.13440   4.982 2.45e-05 ***\n",
       "x1x4        -0.42156    0.13437  -3.137  0.00380 ** \n",
       "x2x3        -0.43427    0.13514  -3.214  0.00313 ** \n",
       "x3x4        -1.21766    0.14095  -8.639 1.23e-09 ***\n",
       "x1x3x4       0.30069    0.14375   2.092  0.04503 *  \n",
       "---\n",
       "Signif. codes:  0 ‘***’ 0.001 ‘**’ 0.01 ‘*’ 0.05 ‘.’ 0.1 ‘ ’ 1\n",
       "\n",
       "Residual standard error: 0.5689 on 30 degrees of freedom\n",
       "Multiple R-squared:  0.9863,\tAdjusted R-squared:  0.9821 \n",
       "F-statistic: 239.1 on 9 and 30 DF,  p-value: < 2.2e-16\n"
      ]
     },
     "metadata": {},
     "output_type": "display_data"
    }
   ],
   "source": [
    "regresion_05 <- lm(Concentrado ~x1+x2+x3+x4+x1x3+x1x4+x2x3+x3x4+x1x3x4\n",
    ", data=data)\n",
    "\n",
    "summary(regresion_05) #Regresión con 5% de significancia"
   ]
  },
  {
   "cell_type": "code",
   "execution_count": 6,
   "metadata": {},
   "outputs": [
    {
     "data": {
      "text/plain": [
       "\n",
       "Call:\n",
       "lm(formula = Concentrado ~ x1 + x2 + x3 + x4 + x5, data = data)\n",
       "\n",
       "Residuals:\n",
       "    Min      1Q  Median      3Q     Max \n",
       "-2.1921 -0.5140 -0.2335  0.1635  3.7520 \n",
       "\n",
       "Coefficients:\n",
       "            Estimate Std. Error t value Pr(>|t|)    \n",
       "(Intercept)  21.1455     0.2530  83.583  < 2e-16 ***\n",
       "x1            2.4703     0.1958  12.616 2.22e-14 ***\n",
       "x2           -0.9774     0.2076  -4.708 4.09e-05 ***\n",
       "x3           -3.3763     0.2794 -12.083 7.43e-14 ***\n",
       "x4            3.1033     0.2791  11.118 7.22e-13 ***\n",
       "x5            0.1771     0.2518   0.704    0.487    \n",
       "---\n",
       "Signif. codes:  0 ‘***’ 0.001 ‘**’ 0.01 ‘*’ 0.05 ‘.’ 0.1 ‘ ’ 1\n",
       "\n",
       "Residual standard error: 1.205 on 34 degrees of freedom\n",
       "Multiple R-squared:  0.9301,\tAdjusted R-squared:  0.9198 \n",
       "F-statistic: 90.45 on 5 and 34 DF,  p-value: < 2.2e-16\n"
      ]
     },
     "metadata": {},
     "output_type": "display_data"
    }
   ],
   "source": [
    "regresion_primera <-lm(Concentrado ~ x1+x2+x3+x4+x5,data=data)\n",
    "summary(regresion_primera) #Regresión multivariada simple"
   ]
  },
  {
   "cell_type": "code",
   "execution_count": 7,
   "metadata": {},
   "outputs": [
    {
     "data": {
      "image/png": "[encoded data removed]",
      "text/plain": [
       "Plot with title “Concentrado vs x4”"
      ]
     },
     "metadata": {
      "image/png": {
       "height": 420,
       "width": 420
      },
      "text/plain": {
       "height": 420,
       "width": 420
      }
     },
     "output_type": "display_data"
    }
   ],
   "source": [
    "par(mfrow=c(2,2))\n",
    "plot(data$x1,data$Concentrado, xlab='x1',ylab='Concentrado',main='Concentrado vs x1')\n",
    "plot(data$x2,data$Concentrado, xlab='x2',ylab='Concentrado',main='Concentrado vs x2')\n",
    "plot(data$x3,data$Concentrado, xlab='x3',ylab='Concentrado',main='Concentrado vs x3')\n",
    "plot(data$x4,data$Concentrado, xlab='x4',ylab='Concentrado',main='Concentrado vs x4')"
   ]
  },
  {
   "cell_type": "code",
   "execution_count": 8,
   "metadata": {},
   "outputs": [
    {
     "data": {
      "image/png": "[encoded data removed]",
      "text/plain": [
       "Plot with title “Concentrado vs x1”"
      ]
     },
     "metadata": {
      "image/png": {
       "height": 420,
       "width": 420
      },
      "text/plain": {
       "height": 420,
       "width": 420
      }
     },
     "output_type": "display_data"
    },
    {
     "data": {
      "image/png": "[encoded data removed]",
      "text/plain": [
       "Plot with title “Concentrado vs x2”"
      ]
     },
     "metadata": {
      "image/png": {
       "height": 420,
       "width": 420
      },
      "text/plain": {
       "height": 420,
       "width": 420
      }
     },
     "output_type": "display_data"
    },
    {
     "data": {
      "image/png": "[encoded data removed]",
      "text/plain": [
       "Plot with title “Concentrado vs x3”"
      ]
     },
     "metadata": {
      "image/png": {
       "height": 420,
       "width": 420
      },
      "text/plain": {
       "height": 420,
       "width": 420
      }
     },
     "output_type": "display_data"
    },
    {
     "data": {
      "image/png": "[encoded data removed]",
      "text/plain": [
       "Plot with title “Concentrado vs x4”"
      ]
     },
     "metadata": {
      "image/png": {
       "height": 420,
       "width": 420
      },
      "text/plain": {
       "height": 420,
       "width": 420
      }
     },
     "output_type": "display_data"
    }
   ],
   "source": [
    "plot(data$x1,data$Concentrado, xlab='x1',ylab='Concentrado',main='Concentrado vs x1')\n",
    "plot(data$x2,data$Concentrado, xlab='x2',ylab='Concentrado',main='Concentrado vs x2')\n",
    "plot(data$x3,data$Concentrado, xlab='x3',ylab='Concentrado',main='Concentrado vs x3')\n",
    "plot(data$x4,data$Concentrado, xlab='x4',ylab='Concentrado',main='Concentrado vs x4')"
   ]
  },
  {
   "cell_type": "code",
   "execution_count": null,
   "metadata": {},
   "outputs": [],
   "source": []
  },
  {
   "cell_type": "code",
   "execution_count": null,
   "metadata": {},
   "outputs": [],
   "source": []
  }
 ],
 "metadata": {
  "kernelspec": {
   "display_name": "R",
   "language": "R",
   "name": "ir"
  },
  "language_info": {
   "codemirror_mode": "r",
   "file_extension": ".r",
   "mimetype": "text/x-r-source",
   "name": "R",
   "pygments_lexer": "r",
   "version": "3.5.2"
  }
 },
 "nbformat": 4,
 "nbformat_minor": 4
}
