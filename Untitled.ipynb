{
 "cells": [
  {
   "cell_type": "code",
   "execution_count": 2,
   "metadata": {},
   "outputs": [
    {
     "data": {
      "text/html": [
       "2.05374891063182"
      ],
      "text/latex": [
       "2.05374891063182"
      ],
      "text/markdown": [
       "2.05374891063182"
      ],
      "text/plain": [
       "[1] 2.053749"
      ]
     },
     "metadata": {},
     "output_type": "display_data"
    }
   ],
   "source": [
    "qnorm(0.98)"
   ]
  },
  {
   "cell_type": "code",
   "execution_count": 4,
   "metadata": {},
   "outputs": [
    {
     "data": {
      "text/html": [
       "16.87073476"
      ],
      "text/latex": [
       "16.87073476"
      ],
      "text/markdown": [
       "16.87073476"
      ],
      "text/plain": [
       "[1] 16.87073"
      ]
     },
     "metadata": {},
     "output_type": "display_data"
    }
   ],
   "source": [
    "(2*2.0537)**2"
   ]
  },
  {
   "cell_type": "code",
   "execution_count": 5,
   "metadata": {},
   "outputs": [
    {
     "data": {
      "text/html": [
       "1.95996398454005"
      ],
      "text/latex": [
       "1.95996398454005"
      ],
      "text/markdown": [
       "1.95996398454005"
      ],
      "text/plain": [
       "[1] 1.959964"
      ]
     },
     "metadata": {},
     "output_type": "display_data"
    }
   ],
   "source": [
    "qnorm(0.975)"
   ]
  },
  {
   "cell_type": "code",
   "execution_count": 6,
   "metadata": {},
   "outputs": [
    {
     "data": {
      "text/html": [
       "9258.51287688929"
      ],
      "text/latex": [
       "9258.51287688929"
      ],
      "text/markdown": [
       "9258.51287688929"
      ],
      "text/plain": [
       "[1] 9258.513"
      ]
     },
     "metadata": {},
     "output_type": "display_data"
    }
   ],
   "source": [
    "189**2-1.96*((2*(189)**4)/14)**(1/2)"
   ]
  },
  {
   "cell_type": "code",
   "execution_count": 7,
   "metadata": {},
   "outputs": [
    {
     "data": {
      "text/html": [
       "62183.4871231107"
      ],
      "text/latex": [
       "62183.4871231107"
      ],
      "text/markdown": [
       "62183.4871231107"
      ],
      "text/plain": [
       "[1] 62183.49"
      ]
     },
     "metadata": {},
     "output_type": "display_data"
    }
   ],
   "source": [
    "189**2+1.96*((2*(189)**4)/14)**(1/2)"
   ]
  },
  {
   "cell_type": "code",
   "execution_count": 14,
   "metadata": {},
   "outputs": [
    {
     "data": {
      "text/html": [
       "1.6614036736649"
      ],
      "text/latex": [
       "1.6614036736649"
      ],
      "text/markdown": [
       "1.6614036736649"
      ],
      "text/plain": [
       "[1] 1.661404"
      ]
     },
     "metadata": {},
     "output_type": "display_data"
    },
    {
     "data": {
      "text/html": [
       "-1.6614036736649"
      ],
      "text/latex": [
       "-1.6614036736649"
      ],
      "text/markdown": [
       "-1.6614036736649"
      ],
      "text/plain": [
       "[1] -1.661404"
      ]
     },
     "metadata": {},
     "output_type": "display_data"
    }
   ],
   "source": [
    "qt(0.95,93)"
   ]
  },
  {
   "cell_type": "code",
   "execution_count": 26,
   "metadata": {},
   "outputs": [
    {
     "data": {
      "text/html": [
       "0.895484049121776"
      ],
      "text/latex": [
       "0.895484049121776"
      ],
      "text/markdown": [
       "0.895484049121776"
      ],
      "text/plain": [
       "[1] 0.895484"
      ]
     },
     "metadata": {},
     "output_type": "display_data"
    },
    {
     "data": {
      "text/html": [
       "0.895876089906358"
      ],
      "text/latex": [
       "0.895876089906358"
      ],
      "text/markdown": [
       "0.895876089906358"
      ],
      "text/plain": [
       "[1] 0.8958761"
      ]
     },
     "metadata": {},
     "output_type": "display_data"
    }
   ],
   "source": [
    "pt(1.265,93)\n",
    "pt(1.2672,93)"
   ]
  },
  {
   "cell_type": "code",
   "execution_count": 19,
   "metadata": {},
   "outputs": [
    {
     "data": {
      "text/html": [
       "3260.8829"
      ],
      "text/latex": [
       "3260.8829"
      ],
      "text/markdown": [
       "3260.8829"
      ],
      "text/plain": [
       "[1] 3260.883"
      ]
     },
     "metadata": {},
     "output_type": "display_data"
    }
   ],
   "source": [
    "sp=1718.75+1542.1329\n",
    "sp"
   ]
  },
  {
   "cell_type": "code",
   "execution_count": null,
   "metadata": {},
   "outputs": [],
   "source": []
  }
 ],
 "metadata": {
  "kernelspec": {
   "display_name": "R",
   "language": "R",
   "name": "ir"
  },
  "language_info": {
   "codemirror_mode": "r",
   "file_extension": ".r",
   "mimetype": "text/x-r-source",
   "name": "R",
   "pygments_lexer": "r",
   "version": "3.5.2"
  }
 },
 "nbformat": 4,
 "nbformat_minor": 4
}
