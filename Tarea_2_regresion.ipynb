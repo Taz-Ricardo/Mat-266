{
 "cells": [
  {
   "cell_type": "code",
   "execution_count": 34,
   "metadata": {},
   "outputs": [],
   "source": [
    "    library(alr3)\n",
    "    library(model) "
   ]
  },
  {
   "cell_type": "markdown",
   "metadata": {},
   "source": [
    "## Ejercicio F:"
   ]
  },
  {
   "cell_type": "markdown",
   "metadata": {},
   "source": [
    "### Ejercicio F.1"
   ]
  },
  {
   "cell_type": "code",
   "execution_count": 2,
   "metadata": {},
   "outputs": [
    {
     "data": {
      "text/html": [
       "<table>\n",
       "<caption>A data.frame: 17 × 3</caption>\n",
       "<thead>\n",
       "\t<tr><th scope=col>X_1</th><th scope=col>X_2</th><th scope=col>Y</th></tr>\n",
       "\t<tr><th scope=col>&lt;dbl&gt;</th><th scope=col>&lt;dbl&gt;</th><th scope=col>&lt;dbl&gt;</th></tr>\n",
       "</thead>\n",
       "<tbody>\n",
       "\t<tr><td>17</td><td>42</td><td>90</td></tr>\n",
       "\t<tr><td>19</td><td>45</td><td>71</td></tr>\n",
       "\t<tr><td>19</td><td>45</td><td>76</td></tr>\n",
       "\t<tr><td>20</td><td>29</td><td>63</td></tr>\n",
       "\t<tr><td>20</td><td>29</td><td>63</td></tr>\n",
       "\t<tr><td>20</td><td>29</td><td>80</td></tr>\n",
       "\t<tr><td>20</td><td>29</td><td>80</td></tr>\n",
       "\t<tr><td>21</td><td>93</td><td>80</td></tr>\n",
       "\t<tr><td>21</td><td>93</td><td>64</td></tr>\n",
       "\t<tr><td>21</td><td>93</td><td>82</td></tr>\n",
       "\t<tr><td>21</td><td>93</td><td>66</td></tr>\n",
       "\t<tr><td>25</td><td>34</td><td>75</td></tr>\n",
       "\t<tr><td>25</td><td>34</td><td>82</td></tr>\n",
       "\t<tr><td>27</td><td>98</td><td>99</td></tr>\n",
       "\t<tr><td>28</td><td> 9</td><td>73</td></tr>\n",
       "\t<tr><td>30</td><td>73</td><td>67</td></tr>\n",
       "\t<tr><td>30</td><td>73</td><td>74</td></tr>\n",
       "</tbody>\n",
       "</table>\n"
      ],
      "text/latex": [
       "A data.frame: 17 × 3\n",
       "\\begin{tabular}{lll}\n",
       " X\\_1 & X\\_2 & Y\\\\\n",
       " <dbl> & <dbl> & <dbl>\\\\\n",
       "\\hline\n",
       "\t 17 & 42 & 90\\\\\n",
       "\t 19 & 45 & 71\\\\\n",
       "\t 19 & 45 & 76\\\\\n",
       "\t 20 & 29 & 63\\\\\n",
       "\t 20 & 29 & 63\\\\\n",
       "\t 20 & 29 & 80\\\\\n",
       "\t 20 & 29 & 80\\\\\n",
       "\t 21 & 93 & 80\\\\\n",
       "\t 21 & 93 & 64\\\\\n",
       "\t 21 & 93 & 82\\\\\n",
       "\t 21 & 93 & 66\\\\\n",
       "\t 25 & 34 & 75\\\\\n",
       "\t 25 & 34 & 82\\\\\n",
       "\t 27 & 98 & 99\\\\\n",
       "\t 28 &  9 & 73\\\\\n",
       "\t 30 & 73 & 67\\\\\n",
       "\t 30 & 73 & 74\\\\\n",
       "\\end{tabular}\n"
      ],
      "text/markdown": [
       "\n",
       "A data.frame: 17 × 3\n",
       "\n",
       "| X_1 &lt;dbl&gt; | X_2 &lt;dbl&gt; | Y &lt;dbl&gt; |\n",
       "|---|---|---|\n",
       "| 17 | 42 | 90 |\n",
       "| 19 | 45 | 71 |\n",
       "| 19 | 45 | 76 |\n",
       "| 20 | 29 | 63 |\n",
       "| 20 | 29 | 63 |\n",
       "| 20 | 29 | 80 |\n",
       "| 20 | 29 | 80 |\n",
       "| 21 | 93 | 80 |\n",
       "| 21 | 93 | 64 |\n",
       "| 21 | 93 | 82 |\n",
       "| 21 | 93 | 66 |\n",
       "| 25 | 34 | 75 |\n",
       "| 25 | 34 | 82 |\n",
       "| 27 | 98 | 99 |\n",
       "| 28 |  9 | 73 |\n",
       "| 30 | 73 | 67 |\n",
       "| 30 | 73 | 74 |\n",
       "\n"
      ],
      "text/plain": [
       "   X_1 X_2 Y \n",
       "1  17  42  90\n",
       "2  19  45  71\n",
       "3  19  45  76\n",
       "4  20  29  63\n",
       "5  20  29  63\n",
       "6  20  29  80\n",
       "7  20  29  80\n",
       "8  21  93  80\n",
       "9  21  93  64\n",
       "10 21  93  82\n",
       "11 21  93  66\n",
       "12 25  34  75\n",
       "13 25  34  82\n",
       "14 27  98  99\n",
       "15 28   9  73\n",
       "16 30  73  67\n",
       "17 30  73  74"
      ]
     },
     "metadata": {},
     "output_type": "display_data"
    }
   ],
   "source": [
    "X_1 <- c(17, 19, 19, 20, 20, 20, 20, 21, 21, 21 ,21, 25, 25, 27, 28, 30, 30)\n",
    "X_2 <- c(42, 45, 45, 29, 29, 29, 29, 93, 93, 93, 93, 34, 34, 98, 9, 73, 73)\n",
    "Y <- c(90, 71, 76, 63, 63, 80, 80, 80, 64, 82, 66, 75, 82, 99, 73, 67, 74)\n",
    "data_F <- data.frame(X_1, X_2, Y)\n",
    "data_F"
   ]
  },
  {
   "cell_type": "code",
   "execution_count": 3,
   "metadata": {},
   "outputs": [
    {
     "data": {
      "text/plain": [
       "\n",
       "Call:\n",
       "lm(formula = Y ~ X_1 + X_2, data = data_F)\n",
       "\n",
       "Residuals:\n",
       "     Min       1Q   Median       3Q      Max \n",
       "-13.3764  -9.6597   0.3827   5.7693  21.2085 \n",
       "\n",
       "Coefficients:\n",
       "            Estimate Std. Error t value Pr(>|t|)    \n",
       "(Intercept)  72.2462    14.9067   4.847 0.000259 ***\n",
       "X_1           0.0286     0.6455   0.044 0.965279    \n",
       "X_2           0.0487     0.0876   0.556 0.586984    \n",
       "---\n",
       "Signif. codes:  0 ‘***’ 0.001 ‘**’ 0.01 ‘*’ 0.05 ‘.’ 0.1 ‘ ’ 1\n",
       "\n",
       "Residual standard error: 10.38 on 14 degrees of freedom\n",
       "Multiple R-squared:  0.02267,\tAdjusted R-squared:  -0.1169 \n",
       "F-statistic: 0.1624 on 2 and 14 DF,  p-value: 0.8517\n"
      ]
     },
     "metadata": {},
     "output_type": "display_data"
    }
   ],
   "source": [
    "regresion_F.1 <- lm(Y ~ X_1+X_2, data_F)\n",
    "summary(regresion_F.1)"
   ]
  },
  {
   "cell_type": "markdown",
   "metadata": {},
   "source": [
    "Este modelo ta re weno xd."
   ]
  },
  {
   "cell_type": "code",
   "execution_count": 15,
   "metadata": {},
   "outputs": [
    {
     "data": {
      "text/html": [
       "<style>\n",
       ".dl-inline {width: auto; margin:0; padding: 0}\n",
       ".dl-inline>dt, .dl-inline>dd {float: none; width: auto; display: inline-block}\n",
       ".dl-inline>dt::after {content: \":\\0020\"; padding-right: .5ex}\n",
       ".dl-inline>dt:not(:first-of-type) {padding-left: .5ex}\n",
       "</style><dl class=dl-inline><dt>(Intercept)</dt><dd>72.2461996945564</dd><dt>X_1</dt><dd>0.0286048880243884</dd><dt>X_2</dt><dd>0.0487038556760639</dd></dl>\n"
      ],
      "text/latex": [
       "\\begin{description*}\n",
       "\\item[(Intercept)] 72.2461996945564\n",
       "\\item[X\\textbackslash{}\\_1] 0.0286048880243884\n",
       "\\item[X\\textbackslash{}\\_2] 0.0487038556760639\n",
       "\\end{description*}\n"
      ],
      "text/markdown": [
       "(Intercept)\n",
       ":   72.2461996945564X_1\n",
       ":   0.0286048880243884X_2\n",
       ":   0.0487038556760639\n",
       "\n"
      ],
      "text/plain": [
       "(Intercept)         X_1         X_2 \n",
       "72.24619969  0.02860489  0.04870386 "
      ]
     },
     "metadata": {},
     "output_type": "display_data"
    }
   ],
   "source": [
    "coef(`regresion_F.1`)"
   ]
  },
  {
   "cell_type": "markdown",
   "metadata": {},
   "source": [
    "### Ejercicio F.2"
   ]
  },
  {
   "cell_type": "code",
   "execution_count": 75,
   "metadata": {},
   "outputs": [
    {
     "data": {
      "text/html": [
       "<table>\n",
       "<caption>A anova: 5 × 5</caption>\n",
       "<thead>\n",
       "\t<tr><th></th><th scope=col>Df</th><th scope=col>Sum Sq</th><th scope=col>Mean Sq</th><th scope=col>F value</th><th scope=col>Pr(&gt;F)</th></tr>\n",
       "\t<tr><th></th><th scope=col>&lt;int&gt;</th><th scope=col>&lt;dbl&gt;</th><th scope=col>&lt;dbl&gt;</th><th scope=col>&lt;dbl&gt;</th><th scope=col>&lt;dbl&gt;</th></tr>\n",
       "</thead>\n",
       "<tbody>\n",
       "\t<tr><th scope=row>X_1</th><td> 1</td><td>   1.688471</td><td>  1.688471</td><td>0.02489147</td><td>0.8781208</td></tr>\n",
       "\t<tr><th scope=row>X_2</th><td> 1</td><td>  33.323438</td><td> 33.323438</td><td>0.49125462</td><td>0.5010860</td></tr>\n",
       "\t<tr><th scope=row>Residuals</th><td>14</td><td>1509.105738</td><td>107.793267</td><td>        NA</td><td>       NA</td></tr>\n",
       "\t<tr><th scope=row> Lack of fit</th><td> 5</td><td> 898.605738</td><td>179.721148</td><td>2.64945181</td><td>0.0967553</td></tr>\n",
       "\t<tr><th scope=row> Pure Error</th><td> 9</td><td> 610.500000</td><td> 67.833333</td><td>        NA</td><td>       NA</td></tr>\n",
       "</tbody>\n",
       "</table>\n"
      ],
      "text/latex": [
       "A anova: 5 × 5\n",
       "\\begin{tabular}{r|lllll}\n",
       "  & Df & Sum Sq & Mean Sq & F value & Pr(>F)\\\\\n",
       "  & <int> & <dbl> & <dbl> & <dbl> & <dbl>\\\\\n",
       "\\hline\n",
       "\tX\\_1 &  1 &    1.688471 &   1.688471 & 0.02489147 & 0.8781208\\\\\n",
       "\tX\\_2 &  1 &   33.323438 &  33.323438 & 0.49125462 & 0.5010860\\\\\n",
       "\tResiduals & 14 & 1509.105738 & 107.793267 &         NA &        NA\\\\\n",
       "\t Lack of fit &  5 &  898.605738 & 179.721148 & 2.64945181 & 0.0967553\\\\\n",
       "\t Pure Error &  9 &  610.500000 &  67.833333 &         NA &        NA\\\\\n",
       "\\end{tabular}\n"
      ],
      "text/markdown": [
       "\n",
       "A anova: 5 × 5\n",
       "\n",
       "| <!--/--> | Df &lt;int&gt; | Sum Sq &lt;dbl&gt; | Mean Sq &lt;dbl&gt; | F value &lt;dbl&gt; | Pr(&gt;F) &lt;dbl&gt; |\n",
       "|---|---|---|---|---|---|\n",
       "| X_1 |  1 |    1.688471 |   1.688471 | 0.02489147 | 0.8781208 |\n",
       "| X_2 |  1 |   33.323438 |  33.323438 | 0.49125462 | 0.5010860 |\n",
       "| Residuals | 14 | 1509.105738 | 107.793267 |         NA |        NA |\n",
       "|  Lack of fit |  5 |  898.605738 | 179.721148 | 2.64945181 | 0.0967553 |\n",
       "|  Pure Error |  9 |  610.500000 |  67.833333 |         NA |        NA |\n",
       "\n"
      ],
      "text/plain": [
       "             Df Sum Sq      Mean Sq    F value    Pr(>F)   \n",
       "X_1           1    1.688471   1.688471 0.02489147 0.8781208\n",
       "X_2           1   33.323438  33.323438 0.49125462 0.5010860\n",
       "Residuals    14 1509.105738 107.793267         NA        NA\n",
       " Lack of fit  5  898.605738 179.721148 2.64945181 0.0967553\n",
       " Pure Error   9  610.500000  67.833333         NA        NA"
      ]
     },
     "metadata": {},
     "output_type": "display_data"
    }
   ],
   "source": [
    "pureErrorAnova(`regresion_F.1`)"
   ]
  },
  {
   "cell_type": "code",
   "execution_count": 76,
   "metadata": {},
   "outputs": [
    {
     "data": {
      "text/html": [
       "2.61061255002997"
      ],
      "text/latex": [
       "2.61061255002997"
      ],
      "text/markdown": [
       "2.61061255002997"
      ],
      "text/plain": [
       "[1] 2.610613"
      ]
     },
     "metadata": {},
     "output_type": "display_data"
    }
   ],
   "source": [
    "qf(0.90,5,9)"
   ]
  },
  {
   "cell_type": "markdown",
   "metadata": {},
   "source": [
    "Primero veamos que el test de error puro tiene 3 formas equivalentes de presentar sus hipotesis\n",
    "\n",
    "H_{0}: La relación es lineal\n",
    "\n",
    "vs\n",
    "\n",
    "H_{1}: La relación no es lineal\n",
    "\n",
    "Si solo si\n",
    "\n",
    "H_{0}: No hay falta de ajuste\n",
    "\n",
    "vs\n",
    "\n",
    "H_{1}: Hay falta de ajuste\n",
    "\n",
    "Si solo si\n",
    "\n",
    "H_{0}: E[Y_{i}]= \\beta_{0}+\\beta_{1}X_{1}+\\beta_{2}X_{2} + \\epsilon\n",
    "\n",
    "vs\n",
    "\n",
    "H_{1}: E[Y_{i}] \\neq \\beta_{0}+\\beta_{1}X_{1}+\\beta_{2}X_{2}  + \\epsilon\n",
    "\n",
    "\n",
    "Queremos estudiar la falta de ajuste utilizando error puro. Teniendo un valor p=0.0968 tenemos que rechazaremos H_{0} en favor de H_{1} si tomamos una significancia del 10% pero si tomamos una significancia del 5% tenemos que no rechazaremos H_{0}. Tomaremos una significancia del 5% con lo que no rechazamos H_{0}"
   ]
  },
  {
   "cell_type": "markdown",
   "metadata": {},
   "source": [
    "### Ejecicio F.3"
   ]
  },
  {
   "cell_type": "code",
   "execution_count": 24,
   "metadata": {},
   "outputs": [
    {
     "data": {
      "text/html": [
       "<table>\n",
       "<caption>A data.frame: 17 × 7</caption>\n",
       "<thead>\n",
       "\t<tr><th scope=col>X_1</th><th scope=col>X_2</th><th scope=col>Y</th><th scope=col>rstudent.regresion_F.1</th><th scope=col>rstudent.F.1</th><th scope=col>fitted.F.1</th><th scope=col>residuals.F.1</th></tr>\n",
       "\t<tr><th scope=col>&lt;dbl&gt;</th><th scope=col>&lt;dbl&gt;</th><th scope=col>&lt;dbl&gt;</th><th scope=col>&lt;dbl&gt;</th><th scope=col>&lt;dbl&gt;</th><th scope=col>&lt;dbl&gt;</th><th scope=col>&lt;dbl&gt;</th></tr>\n",
       "</thead>\n",
       "<tbody>\n",
       "\t<tr><td>17</td><td>42</td><td>90</td><td> 1.73192335</td><td> 1.73192335</td><td>74.77804</td><td> 15.2219553</td></tr>\n",
       "\t<tr><td>19</td><td>45</td><td>71</td><td>-0.39417239</td><td>-0.39417239</td><td>74.98137</td><td> -3.9813661</td></tr>\n",
       "\t<tr><td>19</td><td>45</td><td>76</td><td> 0.10029061</td><td> 0.10029061</td><td>74.98137</td><td>  1.0186339</td></tr>\n",
       "\t<tr><td>20</td><td>29</td><td>63</td><td>-1.17089341</td><td>-1.17089341</td><td>74.23071</td><td>-11.2307093</td></tr>\n",
       "\t<tr><td>20</td><td>29</td><td>63</td><td>-1.17089341</td><td>-1.17089341</td><td>74.23071</td><td>-11.2307093</td></tr>\n",
       "\t<tr><td>20</td><td>29</td><td>80</td><td> 0.57942563</td><td> 0.57942563</td><td>74.23071</td><td>  5.7692907</td></tr>\n",
       "\t<tr><td>20</td><td>29</td><td>80</td><td> 0.57942563</td><td> 0.57942563</td><td>74.23071</td><td>  5.7692907</td></tr>\n",
       "\t<tr><td>21</td><td>93</td><td>80</td><td> 0.26940420</td><td> 0.26940420</td><td>77.37636</td><td>  2.6236391</td></tr>\n",
       "\t<tr><td>21</td><td>93</td><td>64</td><td>-1.48071900</td><td>-1.48071900</td><td>77.37636</td><td>-13.3763609</td></tr>\n",
       "\t<tr><td>21</td><td>93</td><td>82</td><td> 0.47758658</td><td> 0.47758658</td><td>77.37636</td><td>  4.6236391</td></tr>\n",
       "\t<tr><td>21</td><td>93</td><td>66</td><td>-1.23093312</td><td>-1.23093312</td><td>77.37636</td><td>-11.3763609</td></tr>\n",
       "\t<tr><td>25</td><td>34</td><td>75</td><td> 0.03790311</td><td> 0.03790311</td><td>74.61725</td><td>  0.3827470</td></tr>\n",
       "\t<tr><td>25</td><td>34</td><td>82</td><td> 0.74657454</td><td> 0.74657454</td><td>74.61725</td><td>  7.3827470</td></tr>\n",
       "\t<tr><td>27</td><td>98</td><td>99</td><td> 2.88151276</td><td> 2.88151276</td><td>77.79151</td><td> 21.2084905</td></tr>\n",
       "\t<tr><td>28</td><td> 9</td><td>73</td><td>-0.05644573</td><td>-0.05644573</td><td>73.48547</td><td> -0.4854713</td></tr>\n",
       "\t<tr><td>30</td><td>73</td><td>67</td><td>-1.09986294</td><td>-1.09986294</td><td>76.65973</td><td> -9.6597278</td></tr>\n",
       "\t<tr><td>30</td><td>73</td><td>74</td><td>-0.29060036</td><td>-0.29060036</td><td>76.65973</td><td> -2.6597278</td></tr>\n",
       "</tbody>\n",
       "</table>\n"
      ],
      "text/latex": [
       "A data.frame: 17 × 7\n",
       "\\begin{tabular}{lllllll}\n",
       " X\\_1 & X\\_2 & Y & rstudent.regresion\\_F.1 & rstudent.F.1 & fitted.F.1 & residuals.F.1\\\\\n",
       " <dbl> & <dbl> & <dbl> & <dbl> & <dbl> & <dbl> & <dbl>\\\\\n",
       "\\hline\n",
       "\t 17 & 42 & 90 &  1.73192335 &  1.73192335 & 74.77804 &  15.2219553\\\\\n",
       "\t 19 & 45 & 71 & -0.39417239 & -0.39417239 & 74.98137 &  -3.9813661\\\\\n",
       "\t 19 & 45 & 76 &  0.10029061 &  0.10029061 & 74.98137 &   1.0186339\\\\\n",
       "\t 20 & 29 & 63 & -1.17089341 & -1.17089341 & 74.23071 & -11.2307093\\\\\n",
       "\t 20 & 29 & 63 & -1.17089341 & -1.17089341 & 74.23071 & -11.2307093\\\\\n",
       "\t 20 & 29 & 80 &  0.57942563 &  0.57942563 & 74.23071 &   5.7692907\\\\\n",
       "\t 20 & 29 & 80 &  0.57942563 &  0.57942563 & 74.23071 &   5.7692907\\\\\n",
       "\t 21 & 93 & 80 &  0.26940420 &  0.26940420 & 77.37636 &   2.6236391\\\\\n",
       "\t 21 & 93 & 64 & -1.48071900 & -1.48071900 & 77.37636 & -13.3763609\\\\\n",
       "\t 21 & 93 & 82 &  0.47758658 &  0.47758658 & 77.37636 &   4.6236391\\\\\n",
       "\t 21 & 93 & 66 & -1.23093312 & -1.23093312 & 77.37636 & -11.3763609\\\\\n",
       "\t 25 & 34 & 75 &  0.03790311 &  0.03790311 & 74.61725 &   0.3827470\\\\\n",
       "\t 25 & 34 & 82 &  0.74657454 &  0.74657454 & 74.61725 &   7.3827470\\\\\n",
       "\t 27 & 98 & 99 &  2.88151276 &  2.88151276 & 77.79151 &  21.2084905\\\\\n",
       "\t 28 &  9 & 73 & -0.05644573 & -0.05644573 & 73.48547 &  -0.4854713\\\\\n",
       "\t 30 & 73 & 67 & -1.09986294 & -1.09986294 & 76.65973 &  -9.6597278\\\\\n",
       "\t 30 & 73 & 74 & -0.29060036 & -0.29060036 & 76.65973 &  -2.6597278\\\\\n",
       "\\end{tabular}\n"
      ],
      "text/markdown": [
       "\n",
       "A data.frame: 17 × 7\n",
       "\n",
       "| X_1 &lt;dbl&gt; | X_2 &lt;dbl&gt; | Y &lt;dbl&gt; | rstudent.regresion_F.1 &lt;dbl&gt; | rstudent.F.1 &lt;dbl&gt; | fitted.F.1 &lt;dbl&gt; | residuals.F.1 &lt;dbl&gt; |\n",
       "|---|---|---|---|---|---|---|\n",
       "| 17 | 42 | 90 |  1.73192335 |  1.73192335 | 74.77804 |  15.2219553 |\n",
       "| 19 | 45 | 71 | -0.39417239 | -0.39417239 | 74.98137 |  -3.9813661 |\n",
       "| 19 | 45 | 76 |  0.10029061 |  0.10029061 | 74.98137 |   1.0186339 |\n",
       "| 20 | 29 | 63 | -1.17089341 | -1.17089341 | 74.23071 | -11.2307093 |\n",
       "| 20 | 29 | 63 | -1.17089341 | -1.17089341 | 74.23071 | -11.2307093 |\n",
       "| 20 | 29 | 80 |  0.57942563 |  0.57942563 | 74.23071 |   5.7692907 |\n",
       "| 20 | 29 | 80 |  0.57942563 |  0.57942563 | 74.23071 |   5.7692907 |\n",
       "| 21 | 93 | 80 |  0.26940420 |  0.26940420 | 77.37636 |   2.6236391 |\n",
       "| 21 | 93 | 64 | -1.48071900 | -1.48071900 | 77.37636 | -13.3763609 |\n",
       "| 21 | 93 | 82 |  0.47758658 |  0.47758658 | 77.37636 |   4.6236391 |\n",
       "| 21 | 93 | 66 | -1.23093312 | -1.23093312 | 77.37636 | -11.3763609 |\n",
       "| 25 | 34 | 75 |  0.03790311 |  0.03790311 | 74.61725 |   0.3827470 |\n",
       "| 25 | 34 | 82 |  0.74657454 |  0.74657454 | 74.61725 |   7.3827470 |\n",
       "| 27 | 98 | 99 |  2.88151276 |  2.88151276 | 77.79151 |  21.2084905 |\n",
       "| 28 |  9 | 73 | -0.05644573 | -0.05644573 | 73.48547 |  -0.4854713 |\n",
       "| 30 | 73 | 67 | -1.09986294 | -1.09986294 | 76.65973 |  -9.6597278 |\n",
       "| 30 | 73 | 74 | -0.29060036 | -0.29060036 | 76.65973 |  -2.6597278 |\n",
       "\n"
      ],
      "text/plain": [
       "   X_1 X_2 Y  rstudent.regresion_F.1 rstudent.F.1 fitted.F.1 residuals.F.1\n",
       "1  17  42  90  1.73192335             1.73192335  74.77804    15.2219553  \n",
       "2  19  45  71 -0.39417239            -0.39417239  74.98137    -3.9813661  \n",
       "3  19  45  76  0.10029061             0.10029061  74.98137     1.0186339  \n",
       "4  20  29  63 -1.17089341            -1.17089341  74.23071   -11.2307093  \n",
       "5  20  29  63 -1.17089341            -1.17089341  74.23071   -11.2307093  \n",
       "6  20  29  80  0.57942563             0.57942563  74.23071     5.7692907  \n",
       "7  20  29  80  0.57942563             0.57942563  74.23071     5.7692907  \n",
       "8  21  93  80  0.26940420             0.26940420  77.37636     2.6236391  \n",
       "9  21  93  64 -1.48071900            -1.48071900  77.37636   -13.3763609  \n",
       "10 21  93  82  0.47758658             0.47758658  77.37636     4.6236391  \n",
       "11 21  93  66 -1.23093312            -1.23093312  77.37636   -11.3763609  \n",
       "12 25  34  75  0.03790311             0.03790311  74.61725     0.3827470  \n",
       "13 25  34  82  0.74657454             0.74657454  74.61725     7.3827470  \n",
       "14 27  98  99  2.88151276             2.88151276  77.79151    21.2084905  \n",
       "15 28   9  73 -0.05644573            -0.05644573  73.48547    -0.4854713  \n",
       "16 30  73  67 -1.09986294            -1.09986294  76.65973    -9.6597278  \n",
       "17 30  73  74 -0.29060036            -0.29060036  76.65973    -2.6597278  "
      ]
     },
     "metadata": {},
     "output_type": "display_data"
    }
   ],
   "source": [
    "data_F$fitted.F.1 <- fitted( regresion_F.1 ) # valores ajustados\n",
    "data_F$residuals.F.1 <- residuals( regresion_F.1 ) # residuos\n",
    "data_F$rstudent.F.1 <- rstudent( regresion_F.1 )\n",
    "data_F"
   ]
  },
  {
   "cell_type": "code",
   "execution_count": 40,
   "metadata": {},
   "outputs": [
    {
     "data": {
      "text/plain": [
       "\n",
       "\tShapiro-Wilk normality test\n",
       "\n",
       "data:  data_F$residuals.F.1\n",
       "W = 0.94367, p-value = 0.3644\n"
      ]
     },
     "metadata": {},
     "output_type": "display_data"
    }
   ],
   "source": [
    "shapiro.test( data_F$residuals.F.1 )"
   ]
  },
  {
   "cell_type": "code",
   "execution_count": 41,
   "metadata": {},
   "outputs": [
    {
     "data": {
      "text/plain": [
       "\n",
       "\tShapiro-Wilk normality test\n",
       "\n",
       "data:  data_F$rstudent.F.1\n",
       "W = 0.92152, p-value = 0.1567\n"
      ]
     },
     "metadata": {},
     "output_type": "display_data"
    }
   ],
   "source": [
    "shapiro.test( data_F$rstudent.F.1 )"
   ]
  },
  {
   "cell_type": "code",
   "execution_count": 42,
   "metadata": {},
   "outputs": [
    {
     "data": {
      "image/png": "[encoded data removed]",
      "text/plain": [
       "Plot with title “Distribución de residuos”"
      ]
     },
     "metadata": {
      "image/png": {
       "height": 420,
       "width": 420
      },
      "text/plain": {
       "height": 420,
       "width": 420
      }
     },
     "output_type": "display_data"
    }
   ],
   "source": [
    "a<-qqnorm(data_F$residuals.F.1, \n",
    "       main = \"Distribución de residuos\")\n",
    "qqline(data_F$residuals.F.1, col = 2)"
   ]
  },
  {
   "cell_type": "markdown",
   "metadata": {},
   "source": [
    "Graficamente se aprecia que los residuos no ajustan perfectamente a una normal, pero son similares, según el valor p del test de shapiro-wilk no podemos rechazar H_{0}.\n",
    "\n",
    "H_{0}:Los residuos distribuyen normal."
   ]
  },
  {
   "cell_type": "markdown",
   "metadata": {},
   "source": [
    "### Ejercicio F.4"
   ]
  },
  {
   "cell_type": "code",
   "execution_count": 43,
   "metadata": {},
   "outputs": [
    {
     "data": {
      "text/plain": [
       "\n",
       "Call:\n",
       "lm(formula = Y ~ X_1 + X_2, data = data_F)\n",
       "\n",
       "Residuals:\n",
       "     Min       1Q   Median       3Q      Max \n",
       "-13.3764  -9.6597   0.3827   5.7693  21.2085 \n",
       "\n",
       "Coefficients:\n",
       "            Estimate Std. Error t value Pr(>|t|)    \n",
       "(Intercept)  72.2462    14.9067   4.847 0.000259 ***\n",
       "X_1           0.0286     0.6455   0.044 0.965279    \n",
       "X_2           0.0487     0.0876   0.556 0.586984    \n",
       "---\n",
       "Signif. codes:  0 ‘***’ 0.001 ‘**’ 0.01 ‘*’ 0.05 ‘.’ 0.1 ‘ ’ 1\n",
       "\n",
       "Residual standard error: 10.38 on 14 degrees of freedom\n",
       "Multiple R-squared:  0.02267,\tAdjusted R-squared:  -0.1169 \n",
       "F-statistic: 0.1624 on 2 and 14 DF,  p-value: 0.8517\n"
      ]
     },
     "metadata": {},
     "output_type": "display_data"
    }
   ],
   "source": [
    "summary(regresion_F.1)"
   ]
  },
  {
   "cell_type": "markdown",
   "metadata": {},
   "source": [
    "Podemos observar que las pruebas t parciales nos dicen que el aporte de X_{1} y X_{2} son despreciables, especialmente X_{1}, por lo demás el ajuste del modelo es bastante malo, pues tenemos que R^{2}=0.0227."
   ]
  },
  {
   "cell_type": "markdown",
   "metadata": {},
   "source": [
    "## Ejercicio K:"
   ]
  },
  {
   "cell_type": "code",
   "execution_count": 5,
   "metadata": {},
   "outputs": [
    {
     "data": {
      "text/plain": [
       "            Df Sum Sq Mean Sq F value Pr(>F)\n",
       "X_1          1    1.7    1.69   0.016  0.902\n",
       "X_2          1   33.3   33.32   0.309  0.587\n",
       "Residuals   14 1509.1  107.79               "
      ]
     },
     "metadata": {},
     "output_type": "display_data"
    }
   ],
   "source": [
    "F.aov <- aov(Y ~ X_1+X_2,data_F)\n",
    "summary(F.aov)"
   ]
  },
  {
   "cell_type": "markdown",
   "metadata": {},
   "source": [
    "El modelo queda Y= 72.2462+0.0286*X_1+0.0487*X_2"
   ]
  },
  {
   "cell_type": "code",
   "execution_count": 6,
   "metadata": {},
   "outputs": [
    {
     "data": {
      "text/html": [
       "<table>\n",
       "<caption>A matrix: 3 × 3 of type dbl</caption>\n",
       "<tbody>\n",
       "\t<tr><td>0.2</td><td> 0.0</td><td> 0.0</td></tr>\n",
       "\t<tr><td>0.0</td><td> 0.5</td><td>-0.5</td></tr>\n",
       "\t<tr><td>0.0</td><td>-0.5</td><td> 1.0</td></tr>\n",
       "</tbody>\n",
       "</table>\n"
      ],
      "text/latex": [
       "A matrix: 3 × 3 of type dbl\n",
       "\\begin{tabular}{lll}\n",
       "\t 0.2 &  0.0 &  0.0\\\\\n",
       "\t 0.0 &  0.5 & -0.5\\\\\n",
       "\t 0.0 & -0.5 &  1.0\\\\\n",
       "\\end{tabular}\n"
      ],
      "text/markdown": [
       "\n",
       "A matrix: 3 × 3 of type dbl\n",
       "\n",
       "| 0.2 |  0.0 |  0.0 |\n",
       "| 0.0 |  0.5 | -0.5 |\n",
       "| 0.0 | -0.5 |  1.0 |\n",
       "\n"
      ],
      "text/plain": [
       "     [,1] [,2] [,3]\n",
       "[1,] 0.2   0.0  0.0\n",
       "[2,] 0.0   0.5 -0.5\n",
       "[3,] 0.0  -0.5  1.0"
      ]
     },
     "metadata": {},
     "output_type": "display_data"
    }
   ],
   "source": [
    "I=diag(1,nrow=3)\n",
    "C<-matrix(c(5,0,0,0,4,2,0,2,2), nrow = 3)\n",
    "solve(C,I)"
   ]
  },
  {
   "cell_type": "code",
   "execution_count": 7,
   "metadata": {},
   "outputs": [
    {
     "data": {
      "text/html": [
       "<table>\n",
       "<caption>A matrix: 3 × 3 of type dbl</caption>\n",
       "<tbody>\n",
       "\t<tr><td>0.2352941</td><td> 0.0</td><td> 0.0</td></tr>\n",
       "\t<tr><td>0.0000000</td><td> 0.5</td><td>-0.5</td></tr>\n",
       "\t<tr><td>0.0000000</td><td>-0.5</td><td> 1.0</td></tr>\n",
       "</tbody>\n",
       "</table>\n"
      ],
      "text/latex": [
       "A matrix: 3 × 3 of type dbl\n",
       "\\begin{tabular}{lll}\n",
       "\t 0.2352941 &  0.0 &  0.0\\\\\n",
       "\t 0.0000000 &  0.5 & -0.5\\\\\n",
       "\t 0.0000000 & -0.5 &  1.0\\\\\n",
       "\\end{tabular}\n"
      ],
      "text/markdown": [
       "\n",
       "A matrix: 3 × 3 of type dbl\n",
       "\n",
       "| 0.2352941 |  0.0 |  0.0 |\n",
       "| 0.0000000 |  0.5 | -0.5 |\n",
       "| 0.0000000 | -0.5 |  1.0 |\n",
       "\n"
      ],
      "text/plain": [
       "     [,1]      [,2] [,3]\n",
       "[1,] 0.2352941  0.0  0.0\n",
       "[2,] 0.0000000  0.5 -0.5\n",
       "[3,] 0.0000000 -0.5  1.0"
      ]
     },
     "metadata": {},
     "output_type": "display_data"
    }
   ],
   "source": [
    "J=diag(1,nrow=3)\n",
    "C2<- matrix(c(4.25,0,0,0,4,2,0,2,2),nrow=3)\n",
    "solve(C2,J)"
   ]
  },
  {
   "cell_type": "markdown",
   "metadata": {},
   "source": [
    "## Ejercicio Z:"
   ]
  },
  {
   "cell_type": "markdown",
   "metadata": {},
   "source": [
    "### Ejercicio Z.1"
   ]
  },
  {
   "cell_type": "code",
   "execution_count": 8,
   "metadata": {},
   "outputs": [
    {
     "data": {
      "text/html": [
       "<table>\n",
       "<caption>A data.frame: 19 × 3</caption>\n",
       "<thead>\n",
       "\t<tr><th scope=col>X_Z</th><th scope=col>X_2Z</th><th scope=col>Y_Z</th></tr>\n",
       "\t<tr><th scope=col>&lt;dbl&gt;</th><th scope=col>&lt;dbl&gt;</th><th scope=col>&lt;dbl&gt;</th></tr>\n",
       "</thead>\n",
       "<tbody>\n",
       "\t<tr><td> 0</td><td>  0</td><td>22.1</td></tr>\n",
       "\t<tr><td> 1</td><td>  1</td><td>24.5</td></tr>\n",
       "\t<tr><td> 2</td><td>  4</td><td>26.0</td></tr>\n",
       "\t<tr><td> 3</td><td>  9</td><td>26.8</td></tr>\n",
       "\t<tr><td> 4</td><td> 16</td><td>28.2</td></tr>\n",
       "\t<tr><td> 5</td><td> 25</td><td>28.9</td></tr>\n",
       "\t<tr><td> 6</td><td> 36</td><td>30.0</td></tr>\n",
       "\t<tr><td> 7</td><td> 49</td><td>30.4</td></tr>\n",
       "\t<tr><td> 8</td><td> 64</td><td>31.4</td></tr>\n",
       "\t<tr><td> 0</td><td>  0</td><td>21.9</td></tr>\n",
       "\t<tr><td> 2</td><td>  4</td><td>26.1</td></tr>\n",
       "\t<tr><td> 4</td><td> 16</td><td>28.5</td></tr>\n",
       "\t<tr><td> 6</td><td> 36</td><td>30.3</td></tr>\n",
       "\t<tr><td> 8</td><td> 64</td><td>31.5</td></tr>\n",
       "\t<tr><td>10</td><td>100</td><td>33.1</td></tr>\n",
       "\t<tr><td> 0</td><td>  0</td><td>22.8</td></tr>\n",
       "\t<tr><td> 3</td><td>  9</td><td>27.3</td></tr>\n",
       "\t<tr><td> 6</td><td> 36</td><td>29.8</td></tr>\n",
       "\t<tr><td> 9</td><td> 81</td><td>31.8</td></tr>\n",
       "</tbody>\n",
       "</table>\n"
      ],
      "text/latex": [
       "A data.frame: 19 × 3\n",
       "\\begin{tabular}{lll}\n",
       " X\\_Z & X\\_2Z & Y\\_Z\\\\\n",
       " <dbl> & <dbl> & <dbl>\\\\\n",
       "\\hline\n",
       "\t  0 &   0 & 22.1\\\\\n",
       "\t  1 &   1 & 24.5\\\\\n",
       "\t  2 &   4 & 26.0\\\\\n",
       "\t  3 &   9 & 26.8\\\\\n",
       "\t  4 &  16 & 28.2\\\\\n",
       "\t  5 &  25 & 28.9\\\\\n",
       "\t  6 &  36 & 30.0\\\\\n",
       "\t  7 &  49 & 30.4\\\\\n",
       "\t  8 &  64 & 31.4\\\\\n",
       "\t  0 &   0 & 21.9\\\\\n",
       "\t  2 &   4 & 26.1\\\\\n",
       "\t  4 &  16 & 28.5\\\\\n",
       "\t  6 &  36 & 30.3\\\\\n",
       "\t  8 &  64 & 31.5\\\\\n",
       "\t 10 & 100 & 33.1\\\\\n",
       "\t  0 &   0 & 22.8\\\\\n",
       "\t  3 &   9 & 27.3\\\\\n",
       "\t  6 &  36 & 29.8\\\\\n",
       "\t  9 &  81 & 31.8\\\\\n",
       "\\end{tabular}\n"
      ],
      "text/markdown": [
       "\n",
       "A data.frame: 19 × 3\n",
       "\n",
       "| X_Z &lt;dbl&gt; | X_2Z &lt;dbl&gt; | Y_Z &lt;dbl&gt; |\n",
       "|---|---|---|\n",
       "|  0 |   0 | 22.1 |\n",
       "|  1 |   1 | 24.5 |\n",
       "|  2 |   4 | 26.0 |\n",
       "|  3 |   9 | 26.8 |\n",
       "|  4 |  16 | 28.2 |\n",
       "|  5 |  25 | 28.9 |\n",
       "|  6 |  36 | 30.0 |\n",
       "|  7 |  49 | 30.4 |\n",
       "|  8 |  64 | 31.4 |\n",
       "|  0 |   0 | 21.9 |\n",
       "|  2 |   4 | 26.1 |\n",
       "|  4 |  16 | 28.5 |\n",
       "|  6 |  36 | 30.3 |\n",
       "|  8 |  64 | 31.5 |\n",
       "| 10 | 100 | 33.1 |\n",
       "|  0 |   0 | 22.8 |\n",
       "|  3 |   9 | 27.3 |\n",
       "|  6 |  36 | 29.8 |\n",
       "|  9 |  81 | 31.8 |\n",
       "\n"
      ],
      "text/plain": [
       "   X_Z X_2Z Y_Z \n",
       "1   0    0  22.1\n",
       "2   1    1  24.5\n",
       "3   2    4  26.0\n",
       "4   3    9  26.8\n",
       "5   4   16  28.2\n",
       "6   5   25  28.9\n",
       "7   6   36  30.0\n",
       "8   7   49  30.4\n",
       "9   8   64  31.4\n",
       "10  0    0  21.9\n",
       "11  2    4  26.1\n",
       "12  4   16  28.5\n",
       "13  6   36  30.3\n",
       "14  8   64  31.5\n",
       "15 10  100  33.1\n",
       "16  0    0  22.8\n",
       "17  3    9  27.3\n",
       "18  6   36  29.8\n",
       "19  9   81  31.8"
      ]
     },
     "metadata": {},
     "output_type": "display_data"
    }
   ],
   "source": [
    "X_Z <- c(0,1,2,3,4,5,6,7,8,0,2,4,6,8,10,0,3,6,9)\n",
    "X_2Z <-X_Z **2\n",
    "Y_Z <- c(22.1,24.5,26.0,26.8,28.2,28.9,30.0,30.4,31.4,21.9,26.1,28.5,30.3,31.5,33.1,22.8,27.3,29.8,31.8)\n",
    "data_Z <- data.frame(X_Z,X_2Z,Y_Z)\n",
    "data_Z"
   ]
  },
  {
   "cell_type": "code",
   "execution_count": 9,
   "metadata": {},
   "outputs": [
    {
     "data": {
      "text/plain": [
       "\n",
       "Call:\n",
       "lm(formula = Y_Z ~ X_Z + X_2Z, data = data_Z)\n",
       "\n",
       "Residuals:\n",
       "     Min       1Q   Median       3Q      Max \n",
       "-0.66123 -0.28558 -0.05606  0.34252  0.65440 \n",
       "\n",
       "Coefficients:\n",
       "            Estimate Std. Error t value Pr(>|t|)    \n",
       "(Intercept) 22.56123    0.19843 113.698  < 2e-16 ***\n",
       "X_Z          1.66802    0.09895  16.857 1.31e-11 ***\n",
       "X_2Z        -0.06796    0.01031  -6.591 6.21e-06 ***\n",
       "---\n",
       "Signif. codes:  0 ‘***’ 0.001 ‘**’ 0.01 ‘*’ 0.05 ‘.’ 0.1 ‘ ’ 1\n",
       "\n",
       "Residual standard error: 0.3942 on 16 degrees of freedom\n",
       "Multiple R-squared:  0.9878,\tAdjusted R-squared:  0.9863 \n",
       "F-statistic: 649.9 on 2 and 16 DF,  p-value: 4.782e-16\n"
      ]
     },
     "metadata": {},
     "output_type": "display_data"
    }
   ],
   "source": [
    "regresion_Z.1 <- lm(Y_Z ~ X_Z+X_2Z, data_Z)\n",
    "summary(regresion_Z.1)"
   ]
  },
  {
   "cell_type": "code",
   "execution_count": 10,
   "metadata": {},
   "outputs": [
    {
     "data": {
      "text/html": [
       "<table>\n",
       "<caption>A anova: 3 × 5</caption>\n",
       "<thead>\n",
       "\t<tr><th></th><th scope=col>Df</th><th scope=col>Sum Sq</th><th scope=col>Mean Sq</th><th scope=col>F value</th><th scope=col>Pr(&gt;F)</th></tr>\n",
       "\t<tr><th></th><th scope=col>&lt;int&gt;</th><th scope=col>&lt;dbl&gt;</th><th scope=col>&lt;dbl&gt;</th><th scope=col>&lt;dbl&gt;</th><th scope=col>&lt;dbl&gt;</th></tr>\n",
       "</thead>\n",
       "<tbody>\n",
       "\t<tr><th scope=row>X_Z</th><td> 1</td><td>195.242888</td><td>195.2428882</td><td>1256.28852</td><td>1.235421e-16</td></tr>\n",
       "\t<tr><th scope=row>X_2Z</th><td> 1</td><td>  6.751565</td><td>  6.7515651</td><td>  43.44288</td><td>6.206331e-06</td></tr>\n",
       "\t<tr><th scope=row>Residuals</th><td>16</td><td>  2.486599</td><td>  0.1554125</td><td>        NA</td><td>          NA</td></tr>\n",
       "</tbody>\n",
       "</table>\n"
      ],
      "text/latex": [
       "A anova: 3 × 5\n",
       "\\begin{tabular}{r|lllll}\n",
       "  & Df & Sum Sq & Mean Sq & F value & Pr(>F)\\\\\n",
       "  & <int> & <dbl> & <dbl> & <dbl> & <dbl>\\\\\n",
       "\\hline\n",
       "\tX\\_Z &  1 & 195.242888 & 195.2428882 & 1256.28852 & 1.235421e-16\\\\\n",
       "\tX\\_2Z &  1 &   6.751565 &   6.7515651 &   43.44288 & 6.206331e-06\\\\\n",
       "\tResiduals & 16 &   2.486599 &   0.1554125 &         NA &           NA\\\\\n",
       "\\end{tabular}\n"
      ],
      "text/markdown": [
       "\n",
       "A anova: 3 × 5\n",
       "\n",
       "| <!--/--> | Df &lt;int&gt; | Sum Sq &lt;dbl&gt; | Mean Sq &lt;dbl&gt; | F value &lt;dbl&gt; | Pr(&gt;F) &lt;dbl&gt; |\n",
       "|---|---|---|---|---|---|\n",
       "| X_Z |  1 | 195.242888 | 195.2428882 | 1256.28852 | 1.235421e-16 |\n",
       "| X_2Z |  1 |   6.751565 |   6.7515651 |   43.44288 | 6.206331e-06 |\n",
       "| Residuals | 16 |   2.486599 |   0.1554125 |         NA |           NA |\n",
       "\n"
      ],
      "text/plain": [
       "          Df Sum Sq     Mean Sq     F value    Pr(>F)      \n",
       "X_Z        1 195.242888 195.2428882 1256.28852 1.235421e-16\n",
       "X_2Z       1   6.751565   6.7515651   43.44288 6.206331e-06\n",
       "Residuals 16   2.486599   0.1554125         NA           NA"
      ]
     },
     "metadata": {},
     "output_type": "display_data"
    }
   ],
   "source": [
    "anova(regresion_Z.1)"
   ]
  },
  {
   "cell_type": "code",
   "execution_count": 11,
   "metadata": {},
   "outputs": [
    {
     "data": {
      "text/plain": [
       "Call:\n",
       "   aov(formula = regresion_Z.1)\n",
       "\n",
       "Terms:\n",
       "                      X_Z      X_2Z Residuals\n",
       "Sum of Squares  195.24289   6.75157   2.48660\n",
       "Deg. of Freedom         1         1        16\n",
       "\n",
       "Residual standard error: 0.3942239\n",
       "Estimated effects may be unbalanced"
      ]
     },
     "metadata": {},
     "output_type": "display_data"
    },
    {
     "data": {
      "text/plain": [
       "            Df Sum Sq Mean Sq F value   Pr(>F)    \n",
       "X_Z          1 195.24  195.24 1256.29  < 2e-16 ***\n",
       "X_2Z         1   6.75    6.75   43.44 6.21e-06 ***\n",
       "Residuals   16   2.49    0.16                     \n",
       "---\n",
       "Signif. codes:  0 ‘***’ 0.001 ‘**’ 0.01 ‘*’ 0.05 ‘.’ 0.1 ‘ ’ 1"
      ]
     },
     "metadata": {},
     "output_type": "display_data"
    }
   ],
   "source": [
    "aov(regresion_Z.1)\n",
    "summary(aov(regresion_Z.1))"
   ]
  },
  {
   "cell_type": "markdown",
   "metadata": {},
   "source": [
    "### Ejercicio z.2"
   ]
  },
  {
   "cell_type": "code",
   "execution_count": 65,
   "metadata": {},
   "outputs": [
    {
     "data": {
      "text/plain": [
       "\n",
       "Call:\n",
       "lm(formula = Y_Z ~ X_Z + X_2Z, data = data_Z)\n",
       "\n",
       "Residuals:\n",
       "     Min       1Q   Median       3Q      Max \n",
       "-0.66123 -0.28558 -0.05606  0.34252  0.65440 \n",
       "\n",
       "Coefficients:\n",
       "            Estimate Std. Error t value Pr(>|t|)    \n",
       "(Intercept) 22.56123    0.19843 113.698  < 2e-16 ***\n",
       "X_Z          1.66802    0.09895  16.857 1.31e-11 ***\n",
       "X_2Z        -0.06796    0.01031  -6.591 6.21e-06 ***\n",
       "---\n",
       "Signif. codes:  0 ‘***’ 0.001 ‘**’ 0.01 ‘*’ 0.05 ‘.’ 0.1 ‘ ’ 1\n",
       "\n",
       "Residual standard error: 0.3942 on 16 degrees of freedom\n",
       "Multiple R-squared:  0.9878,\tAdjusted R-squared:  0.9863 \n",
       "F-statistic: 649.9 on 2 and 16 DF,  p-value: 4.782e-16\n"
      ]
     },
     "metadata": {},
     "output_type": "display_data"
    }
   ],
   "source": [
    "summary(regresion_Z.1)"
   ]
  },
  {
   "cell_type": "markdown",
   "metadata": {},
   "source": [
    "Tenemos que el valor p del estadistico F sobre el modelo en general es 4.782e-16 con lo que con un 5% de significancia rechazamos H_{0} en favor de H_{1}.\n",
    "\n",
    "H_{0}= todos los betas=0\n",
    "\n",
    "vs\n",
    "\n",
    "H_{1}=algún beta distinto de 0 #copiar esto en latex distintoa como esta escrito."
   ]
  },
  {
   "cell_type": "markdown",
   "metadata": {},
   "source": [
    "### Ejercicio z.3"
   ]
  },
  {
   "cell_type": "code",
   "execution_count": 67,
   "metadata": {},
   "outputs": [
    {
     "data": {
      "text/html": [
       "<table>\n",
       "<caption>A anova: 5 × 5</caption>\n",
       "<thead>\n",
       "\t<tr><th></th><th scope=col>Df</th><th scope=col>Sum Sq</th><th scope=col>Mean Sq</th><th scope=col>F value</th><th scope=col>Pr(&gt;F)</th></tr>\n",
       "\t<tr><th></th><th scope=col>&lt;int&gt;</th><th scope=col>&lt;dbl&gt;</th><th scope=col>&lt;dbl&gt;</th><th scope=col>&lt;dbl&gt;</th><th scope=col>&lt;dbl&gt;</th></tr>\n",
       "</thead>\n",
       "<tbody>\n",
       "\t<tr><th scope=row>X_Z</th><td> 1</td><td>195.2428882</td><td>195.24288822</td><td>2073.375804</td><td>5.977021e-11</td></tr>\n",
       "\t<tr><th scope=row>X_2Z</th><td> 1</td><td>  6.7515651</td><td>  6.75156506</td><td>  71.698036</td><td>2.895051e-05</td></tr>\n",
       "\t<tr><th scope=row>Residuals</th><td>16</td><td>  2.4865994</td><td>  0.15541246</td><td>         NA</td><td>          NA</td></tr>\n",
       "\t<tr><th scope=row> Lack of fit</th><td> 8</td><td>  1.7332660</td><td>  0.21665825</td><td>   2.300796</td><td>1.299026e-01</td></tr>\n",
       "\t<tr><th scope=row> Pure Error</th><td> 8</td><td>  0.7533333</td><td>  0.09416667</td><td>         NA</td><td>          NA</td></tr>\n",
       "</tbody>\n",
       "</table>\n"
      ],
      "text/latex": [
       "A anova: 5 × 5\n",
       "\\begin{tabular}{r|lllll}\n",
       "  & Df & Sum Sq & Mean Sq & F value & Pr(>F)\\\\\n",
       "  & <int> & <dbl> & <dbl> & <dbl> & <dbl>\\\\\n",
       "\\hline\n",
       "\tX\\_Z &  1 & 195.2428882 & 195.24288822 & 2073.375804 & 5.977021e-11\\\\\n",
       "\tX\\_2Z &  1 &   6.7515651 &   6.75156506 &   71.698036 & 2.895051e-05\\\\\n",
       "\tResiduals & 16 &   2.4865994 &   0.15541246 &          NA &           NA\\\\\n",
       "\t Lack of fit &  8 &   1.7332660 &   0.21665825 &    2.300796 & 1.299026e-01\\\\\n",
       "\t Pure Error &  8 &   0.7533333 &   0.09416667 &          NA &           NA\\\\\n",
       "\\end{tabular}\n"
      ],
      "text/markdown": [
       "\n",
       "A anova: 5 × 5\n",
       "\n",
       "| <!--/--> | Df &lt;int&gt; | Sum Sq &lt;dbl&gt; | Mean Sq &lt;dbl&gt; | F value &lt;dbl&gt; | Pr(&gt;F) &lt;dbl&gt; |\n",
       "|---|---|---|---|---|---|\n",
       "| X_Z |  1 | 195.2428882 | 195.24288822 | 2073.375804 | 5.977021e-11 |\n",
       "| X_2Z |  1 |   6.7515651 |   6.75156506 |   71.698036 | 2.895051e-05 |\n",
       "| Residuals | 16 |   2.4865994 |   0.15541246 |          NA |           NA |\n",
       "|  Lack of fit |  8 |   1.7332660 |   0.21665825 |    2.300796 | 1.299026e-01 |\n",
       "|  Pure Error |  8 |   0.7533333 |   0.09416667 |          NA |           NA |\n",
       "\n"
      ],
      "text/plain": [
       "             Df Sum Sq      Mean Sq      F value     Pr(>F)      \n",
       "X_Z           1 195.2428882 195.24288822 2073.375804 5.977021e-11\n",
       "X_2Z          1   6.7515651   6.75156506   71.698036 2.895051e-05\n",
       "Residuals    16   2.4865994   0.15541246          NA           NA\n",
       " Lack of fit  8   1.7332660   0.21665825    2.300796 1.299026e-01\n",
       " Pure Error   8   0.7533333   0.09416667          NA           NA"
      ]
     },
     "metadata": {},
     "output_type": "display_data"
    }
   ],
   "source": [
    "pureErrorAnova(`regresion_Z.1`)"
   ]
  },
  {
   "cell_type": "code",
   "execution_count": 77,
   "metadata": {},
   "outputs": [
    {
     "data": {
      "text/html": [
       "3.43810123337316"
      ],
      "text/latex": [
       "3.43810123337316"
      ],
      "text/markdown": [
       "3.43810123337316"
      ],
      "text/plain": [
       "[1] 3.438101"
      ]
     },
     "metadata": {},
     "output_type": "display_data"
    }
   ],
   "source": [
    "qf(0.95,8,8)"
   ]
  },
  {
   "cell_type": "markdown",
   "metadata": {},
   "source": [
    "Recordemos que el test de error puro o tambien llamado falta de ajuste tiene 3 formas equivalentes de presentar sus hipotesis:\n",
    "\n",
    "H_{0}: La relación es lineal\n",
    "\n",
    "vs\n",
    "\n",
    "H_{1}: La relación no es lineal\n",
    "\n",
    "Si solo si\n",
    "\n",
    "H_{0}: No hay falta de ajuste\n",
    "\n",
    "vs\n",
    "\n",
    "H_{1}: Hay falta de ajuste\n",
    "\n",
    "Si solo si\n",
    "\n",
    "H_{0}: E[Y_{i}]= \\beta_{0}+\\beta_{1}X_{1}+\\beta_{2}X_{2} + \\epsilon\n",
    "\n",
    "vs\n",
    "\n",
    "H_{1}: E[Y_{i}] \\neq \\beta_{0}+\\beta_{1}X_{1}+\\beta_{2}X_{2}  + \\epsilon\n",
    "\n",
    "Tenemos un valor p=0.1299 por lo que tomando una significancia del 5% al 10% no rechazaremos H_{0}."
   ]
  },
  {
   "cell_type": "markdown",
   "metadata": {},
   "source": [
    "### Ejercicio z.4"
   ]
  },
  {
   "cell_type": "code",
   "execution_count": 13,
   "metadata": {},
   "outputs": [
    {
     "data": {
      "text/plain": [
       "\n",
       "Call:\n",
       "lm(formula = Y_Z ~ X_Z, data = data_Z)\n",
       "\n",
       "Residuals:\n",
       "    Min      1Q  Median      3Q     Max \n",
       "-1.4464 -0.4282  0.1809  0.6127  0.9718 \n",
       "\n",
       "Coefficients:\n",
       "            Estimate Std. Error t value Pr(>|t|)    \n",
       "(Intercept) 23.34638    0.29675   78.67  < 2e-16 ***\n",
       "X_Z          1.04546    0.05516   18.95 7.18e-13 ***\n",
       "---\n",
       "Signif. codes:  0 ‘***’ 0.001 ‘**’ 0.01 ‘*’ 0.05 ‘.’ 0.1 ‘ ’ 1\n",
       "\n",
       "Residual standard error: 0.7372 on 17 degrees of freedom\n",
       "Multiple R-squared:  0.9548,\tAdjusted R-squared:  0.9522 \n",
       "F-statistic: 359.3 on 1 and 17 DF,  p-value: 7.182e-13\n"
      ]
     },
     "metadata": {},
     "output_type": "display_data"
    }
   ],
   "source": [
    "regresion_Z.4 <- lm(Y_Z ~ X_Z, data_Z)\n",
    "summary(regresion_Z.4)"
   ]
  },
  {
   "cell_type": "code",
   "execution_count": 14,
   "metadata": {},
   "outputs": [
    {
     "data": {
      "text/html": [
       "<table>\n",
       "<caption>A anova: 2 × 5</caption>\n",
       "<thead>\n",
       "\t<tr><th></th><th scope=col>Df</th><th scope=col>Sum Sq</th><th scope=col>Mean Sq</th><th scope=col>F value</th><th scope=col>Pr(&gt;F)</th></tr>\n",
       "\t<tr><th></th><th scope=col>&lt;int&gt;</th><th scope=col>&lt;dbl&gt;</th><th scope=col>&lt;dbl&gt;</th><th scope=col>&lt;dbl&gt;</th><th scope=col>&lt;dbl&gt;</th></tr>\n",
       "</thead>\n",
       "<tbody>\n",
       "\t<tr><th scope=row>X_Z</th><td> 1</td><td>195.242888</td><td>195.2428882</td><td>359.2845</td><td>7.181631e-13</td></tr>\n",
       "\t<tr><th scope=row>Residuals</th><td>17</td><td>  9.238164</td><td>  0.5434214</td><td>      NA</td><td>          NA</td></tr>\n",
       "</tbody>\n",
       "</table>\n"
      ],
      "text/latex": [
       "A anova: 2 × 5\n",
       "\\begin{tabular}{r|lllll}\n",
       "  & Df & Sum Sq & Mean Sq & F value & Pr(>F)\\\\\n",
       "  & <int> & <dbl> & <dbl> & <dbl> & <dbl>\\\\\n",
       "\\hline\n",
       "\tX\\_Z &  1 & 195.242888 & 195.2428882 & 359.2845 & 7.181631e-13\\\\\n",
       "\tResiduals & 17 &   9.238164 &   0.5434214 &       NA &           NA\\\\\n",
       "\\end{tabular}\n"
      ],
      "text/markdown": [
       "\n",
       "A anova: 2 × 5\n",
       "\n",
       "| <!--/--> | Df &lt;int&gt; | Sum Sq &lt;dbl&gt; | Mean Sq &lt;dbl&gt; | F value &lt;dbl&gt; | Pr(&gt;F) &lt;dbl&gt; |\n",
       "|---|---|---|---|---|---|\n",
       "| X_Z |  1 | 195.242888 | 195.2428882 | 359.2845 | 7.181631e-13 |\n",
       "| Residuals | 17 |   9.238164 |   0.5434214 |       NA |           NA |\n",
       "\n"
      ],
      "text/plain": [
       "          Df Sum Sq     Mean Sq     F value  Pr(>F)      \n",
       "X_Z        1 195.242888 195.2428882 359.2845 7.181631e-13\n",
       "Residuals 17   9.238164   0.5434214       NA           NA"
      ]
     },
     "metadata": {},
     "output_type": "display_data"
    }
   ],
   "source": [
    "anova(regresion_Z.4)"
   ]
  },
  {
   "cell_type": "markdown",
   "metadata": {},
   "source": [
    "Pareciera ser suficiente, el cambio en la suma cuadrada de residuos es en 6.7516, la variació en el R^2 es del 3.30% lo que no es mucho consierando que el modelo sólo con X explica el 95.48% de la variabilidad de los datos, es decir tiene un R^2=95.48%. #Recomiendo continuar luego de ver las clases para saber si quieren que estudie normalidad de residuos"
   ]
  },
  {
   "cell_type": "markdown",
   "metadata": {},
   "source": [
    "### Ejercicio z.5"
   ]
  },
  {
   "cell_type": "markdown",
   "metadata": {},
   "source": [
    "El modelo cuadratico es una mejora respecto al modelo lineal, aunque siempre se sabe eso pues a mayor regresoras mayor ajuste, la prueba t parcial y la prueba f parcial indican que la regresora X^2 es significativa para el modelo, por lo que es una buena adición a este."
   ]
  },
  {
   "cell_type": "code",
   "execution_count": null,
   "metadata": {},
   "outputs": [],
   "source": []
  }
 ],
 "metadata": {
  "kernelspec": {
   "display_name": "R",
   "language": "R",
   "name": "ir"
  },
  "language_info": {
   "codemirror_mode": "r",
   "file_extension": ".r",
   "mimetype": "text/x-r-source",
   "name": "R",
   "pygments_lexer": "r",
   "version": "3.5.2"
  }
 },
 "nbformat": 4,
 "nbformat_minor": 4
}
