{
 "cells": [
  {
   "cell_type": "code",
   "execution_count": 11,
   "metadata": {},
   "outputs": [],
   "source": [
    "    library(alr3)\n",
    "    library(model) "
   ]
  },
  {
   "cell_type": "markdown",
   "metadata": {},
   "source": [
    "## Ejercicio F:"
   ]
  },
  {
   "cell_type": "markdown",
   "metadata": {},
   "source": [
    "### Ejercicio F.1"
   ]
  },
  {
   "cell_type": "code",
   "execution_count": 3,
   "metadata": {},
   "outputs": [
    {
     "data": {
      "text/html": [
       "<table>\n",
       "<caption>A data.frame: 17 × 3</caption>\n",
       "<thead>\n",
       "\t<tr><th scope=col>X_1</th><th scope=col>X_2</th><th scope=col>Y</th></tr>\n",
       "\t<tr><th scope=col>&lt;dbl&gt;</th><th scope=col>&lt;dbl&gt;</th><th scope=col>&lt;dbl&gt;</th></tr>\n",
       "</thead>\n",
       "<tbody>\n",
       "\t<tr><td>17</td><td>42</td><td>90</td></tr>\n",
       "\t<tr><td>19</td><td>45</td><td>71</td></tr>\n",
       "\t<tr><td>19</td><td>45</td><td>76</td></tr>\n",
       "\t<tr><td>20</td><td>29</td><td>63</td></tr>\n",
       "\t<tr><td>20</td><td>29</td><td>63</td></tr>\n",
       "\t<tr><td>20</td><td>29</td><td>80</td></tr>\n",
       "\t<tr><td>20</td><td>29</td><td>80</td></tr>\n",
       "\t<tr><td>21</td><td>93</td><td>80</td></tr>\n",
       "\t<tr><td>21</td><td>93</td><td>64</td></tr>\n",
       "\t<tr><td>21</td><td>93</td><td>82</td></tr>\n",
       "\t<tr><td>21</td><td>93</td><td>66</td></tr>\n",
       "\t<tr><td>25</td><td>34</td><td>75</td></tr>\n",
       "\t<tr><td>25</td><td>34</td><td>82</td></tr>\n",
       "\t<tr><td>27</td><td>98</td><td>99</td></tr>\n",
       "\t<tr><td>28</td><td> 9</td><td>73</td></tr>\n",
       "\t<tr><td>30</td><td>73</td><td>67</td></tr>\n",
       "\t<tr><td>30</td><td>73</td><td>74</td></tr>\n",
       "</tbody>\n",
       "</table>\n"
      ],
      "text/latex": [
       "A data.frame: 17 × 3\n",
       "\\begin{tabular}{lll}\n",
       " X\\_1 & X\\_2 & Y\\\\\n",
       " <dbl> & <dbl> & <dbl>\\\\\n",
       "\\hline\n",
       "\t 17 & 42 & 90\\\\\n",
       "\t 19 & 45 & 71\\\\\n",
       "\t 19 & 45 & 76\\\\\n",
       "\t 20 & 29 & 63\\\\\n",
       "\t 20 & 29 & 63\\\\\n",
       "\t 20 & 29 & 80\\\\\n",
       "\t 20 & 29 & 80\\\\\n",
       "\t 21 & 93 & 80\\\\\n",
       "\t 21 & 93 & 64\\\\\n",
       "\t 21 & 93 & 82\\\\\n",
       "\t 21 & 93 & 66\\\\\n",
       "\t 25 & 34 & 75\\\\\n",
       "\t 25 & 34 & 82\\\\\n",
       "\t 27 & 98 & 99\\\\\n",
       "\t 28 &  9 & 73\\\\\n",
       "\t 30 & 73 & 67\\\\\n",
       "\t 30 & 73 & 74\\\\\n",
       "\\end{tabular}\n"
      ],
      "text/markdown": [
       "\n",
       "A data.frame: 17 × 3\n",
       "\n",
       "| X_1 &lt;dbl&gt; | X_2 &lt;dbl&gt; | Y &lt;dbl&gt; |\n",
       "|---|---|---|\n",
       "| 17 | 42 | 90 |\n",
       "| 19 | 45 | 71 |\n",
       "| 19 | 45 | 76 |\n",
       "| 20 | 29 | 63 |\n",
       "| 20 | 29 | 63 |\n",
       "| 20 | 29 | 80 |\n",
       "| 20 | 29 | 80 |\n",
       "| 21 | 93 | 80 |\n",
       "| 21 | 93 | 64 |\n",
       "| 21 | 93 | 82 |\n",
       "| 21 | 93 | 66 |\n",
       "| 25 | 34 | 75 |\n",
       "| 25 | 34 | 82 |\n",
       "| 27 | 98 | 99 |\n",
       "| 28 |  9 | 73 |\n",
       "| 30 | 73 | 67 |\n",
       "| 30 | 73 | 74 |\n",
       "\n"
      ],
      "text/plain": [
       "   X_1 X_2 Y \n",
       "1  17  42  90\n",
       "2  19  45  71\n",
       "3  19  45  76\n",
       "4  20  29  63\n",
       "5  20  29  63\n",
       "6  20  29  80\n",
       "7  20  29  80\n",
       "8  21  93  80\n",
       "9  21  93  64\n",
       "10 21  93  82\n",
       "11 21  93  66\n",
       "12 25  34  75\n",
       "13 25  34  82\n",
       "14 27  98  99\n",
       "15 28   9  73\n",
       "16 30  73  67\n",
       "17 30  73  74"
      ]
     },
     "metadata": {},
     "output_type": "display_data"
    }
   ],
   "source": [
    "X_1 <- c(17, 19, 19, 20, 20, 20, 20, 21, 21, 21 ,21, 25, 25, 27, 28, 30, 30)\n",
    "X_2 <- c(42, 45, 45, 29, 29, 29, 29, 93, 93, 93, 93, 34, 34, 98, 9, 73, 73)\n",
    "Y <- c(90, 71, 76, 63, 63, 80, 80, 80, 64, 82, 66, 75, 82, 99, 73, 67, 74)\n",
    "data_F <- data.frame(X_1, X_2, Y)\n",
    "data_F"
   ]
  },
  {
   "cell_type": "code",
   "execution_count": 4,
   "metadata": {},
   "outputs": [
    {
     "data": {
      "text/plain": [
       "\n",
       "Call:\n",
       "lm(formula = Y ~ X_1 + X_2, data = data_F)\n",
       "\n",
       "Residuals:\n",
       "     Min       1Q   Median       3Q      Max \n",
       "-13.3764  -9.6597   0.3827   5.7693  21.2085 \n",
       "\n",
       "Coefficients:\n",
       "            Estimate Std. Error t value Pr(>|t|)    \n",
       "(Intercept)  72.2462    14.9067   4.847 0.000259 ***\n",
       "X_1           0.0286     0.6455   0.044 0.965279    \n",
       "X_2           0.0487     0.0876   0.556 0.586984    \n",
       "---\n",
       "Signif. codes:  0 ‘***’ 0.001 ‘**’ 0.01 ‘*’ 0.05 ‘.’ 0.1 ‘ ’ 1\n",
       "\n",
       "Residual standard error: 10.38 on 14 degrees of freedom\n",
       "Multiple R-squared:  0.02267,\tAdjusted R-squared:  -0.1169 \n",
       "F-statistic: 0.1624 on 2 and 14 DF,  p-value: 0.8517\n"
      ]
     },
     "metadata": {},
     "output_type": "display_data"
    }
   ],
   "source": [
    "regresion_F.1 <- lm(Y ~ X_1+X_2, data_F)\n",
    "summary(regresion_F.1)"
   ]
  },
  {
   "cell_type": "markdown",
   "metadata": {},
   "source": [
    "Este modelo ta re weno xd."
   ]
  },
  {
   "cell_type": "code",
   "execution_count": 5,
   "metadata": {},
   "outputs": [],
   "source": [
    "coef(`regresion_F.1`)"
   ]
  },
  {
   "cell_type": "markdown",
   "metadata": {},
   "source": [
    "## Ejercicio K:"
   ]
  },
  {
   "cell_type": "code",
   "execution_count": 8,
   "metadata": {},
   "outputs": [
    {
     "data": {
      "text/plain": [
       "            Df Sum Sq Mean Sq F value Pr(>F)\n",
       "X_1          1    1.7    1.69   0.016  0.902\n",
       "X_2          1   33.3   33.32   0.309  0.587\n",
       "Residuals   14 1509.1  107.79               "
      ]
     },
     "metadata": {},
     "output_type": "display_data"
    }
   ],
   "source": [
    "F.aov <- aov(Y ~ X_1+X_2,data_F)\n",
    "summary(F.aov)"
   ]
  },
  {
   "cell_type": "markdown",
   "metadata": {},
   "source": [
    "El modelo queda Y= 72.2462+0.0286*X_1+0.0487*X_2"
   ]
  },
  {
   "cell_type": "code",
   "execution_count": 28,
   "metadata": {},
   "outputs": [
    {
     "data": {
      "text/html": [
       "<table>\n",
       "<caption>A matrix: 3 × 3 of type dbl</caption>\n",
       "<tbody>\n",
       "\t<tr><td>0.2</td><td> 0.0</td><td> 0.0</td></tr>\n",
       "\t<tr><td>0.0</td><td> 0.5</td><td>-0.5</td></tr>\n",
       "\t<tr><td>0.0</td><td>-0.5</td><td> 1.0</td></tr>\n",
       "</tbody>\n",
       "</table>\n"
      ],
      "text/latex": [
       "A matrix: 3 × 3 of type dbl\n",
       "\\begin{tabular}{lll}\n",
       "\t 0.2 &  0.0 &  0.0\\\\\n",
       "\t 0.0 &  0.5 & -0.5\\\\\n",
       "\t 0.0 & -0.5 &  1.0\\\\\n",
       "\\end{tabular}\n"
      ],
      "text/markdown": [
       "\n",
       "A matrix: 3 × 3 of type dbl\n",
       "\n",
       "| 0.2 |  0.0 |  0.0 |\n",
       "| 0.0 |  0.5 | -0.5 |\n",
       "| 0.0 | -0.5 |  1.0 |\n",
       "\n"
      ],
      "text/plain": [
       "     [,1] [,2] [,3]\n",
       "[1,] 0.2   0.0  0.0\n",
       "[2,] 0.0   0.5 -0.5\n",
       "[3,] 0.0  -0.5  1.0"
      ]
     },
     "metadata": {},
     "output_type": "display_data"
    }
   ],
   "source": [
    "I=diag(1,nrow=3)\n",
    "C<-matrix(c(5,0,0,0,4,2,0,2,2), nrow = 3)\n",
    "solve(C,I)"
   ]
  },
  {
   "cell_type": "code",
   "execution_count": 29,
   "metadata": {},
   "outputs": [
    {
     "data": {
      "text/html": [
       "<table>\n",
       "<caption>A matrix: 3 × 3 of type dbl</caption>\n",
       "<tbody>\n",
       "\t<tr><td>0.2352941</td><td> 0.0</td><td> 0.0</td></tr>\n",
       "\t<tr><td>0.0000000</td><td> 0.5</td><td>-0.5</td></tr>\n",
       "\t<tr><td>0.0000000</td><td>-0.5</td><td> 1.0</td></tr>\n",
       "</tbody>\n",
       "</table>\n"
      ],
      "text/latex": [
       "A matrix: 3 × 3 of type dbl\n",
       "\\begin{tabular}{lll}\n",
       "\t 0.2352941 &  0.0 &  0.0\\\\\n",
       "\t 0.0000000 &  0.5 & -0.5\\\\\n",
       "\t 0.0000000 & -0.5 &  1.0\\\\\n",
       "\\end{tabular}\n"
      ],
      "text/markdown": [
       "\n",
       "A matrix: 3 × 3 of type dbl\n",
       "\n",
       "| 0.2352941 |  0.0 |  0.0 |\n",
       "| 0.0000000 |  0.5 | -0.5 |\n",
       "| 0.0000000 | -0.5 |  1.0 |\n",
       "\n"
      ],
      "text/plain": [
       "     [,1]      [,2] [,3]\n",
       "[1,] 0.2352941  0.0  0.0\n",
       "[2,] 0.0000000  0.5 -0.5\n",
       "[3,] 0.0000000 -0.5  1.0"
      ]
     },
     "metadata": {},
     "output_type": "display_data"
    }
   ],
   "source": [
    "J=diag(1,nrow=3)\n",
    "C2<- matrix(c(4.25,0,0,0,4,2,0,2,2),nrow=3)\n",
    "solve(C2,J)"
   ]
  },
  {
   "cell_type": "markdown",
   "metadata": {},
   "source": [
    "## Ejercicio Z:"
   ]
  },
  {
   "cell_type": "markdown",
   "metadata": {},
   "source": [
    "### Ejercicio Z.1"
   ]
  },
  {
   "cell_type": "code",
   "execution_count": 22,
   "metadata": {},
   "outputs": [
    {
     "data": {
      "text/html": [
       "<table>\n",
       "<caption>A data.frame: 19 × 3</caption>\n",
       "<thead>\n",
       "\t<tr><th scope=col>X_Z</th><th scope=col>X_2Z</th><th scope=col>Y_Z</th></tr>\n",
       "\t<tr><th scope=col>&lt;dbl&gt;</th><th scope=col>&lt;dbl&gt;</th><th scope=col>&lt;dbl&gt;</th></tr>\n",
       "</thead>\n",
       "<tbody>\n",
       "\t<tr><td> 0</td><td>  0</td><td>22.1</td></tr>\n",
       "\t<tr><td> 1</td><td>  1</td><td>24.5</td></tr>\n",
       "\t<tr><td> 2</td><td>  4</td><td>26.0</td></tr>\n",
       "\t<tr><td> 3</td><td>  9</td><td>26.8</td></tr>\n",
       "\t<tr><td> 4</td><td> 16</td><td>28.2</td></tr>\n",
       "\t<tr><td> 5</td><td> 25</td><td>28.9</td></tr>\n",
       "\t<tr><td> 6</td><td> 36</td><td>30.0</td></tr>\n",
       "\t<tr><td> 7</td><td> 49</td><td>30.4</td></tr>\n",
       "\t<tr><td> 8</td><td> 64</td><td>31.4</td></tr>\n",
       "\t<tr><td> 0</td><td>  0</td><td>21.9</td></tr>\n",
       "\t<tr><td> 2</td><td>  4</td><td>26.1</td></tr>\n",
       "\t<tr><td> 4</td><td> 16</td><td>28.5</td></tr>\n",
       "\t<tr><td> 6</td><td> 36</td><td>30.3</td></tr>\n",
       "\t<tr><td> 8</td><td> 64</td><td>31.5</td></tr>\n",
       "\t<tr><td>10</td><td>100</td><td>33.1</td></tr>\n",
       "\t<tr><td> 0</td><td>  0</td><td>22.8</td></tr>\n",
       "\t<tr><td> 3</td><td>  9</td><td>27.3</td></tr>\n",
       "\t<tr><td> 6</td><td> 36</td><td>29.8</td></tr>\n",
       "\t<tr><td> 9</td><td> 81</td><td>31.8</td></tr>\n",
       "</tbody>\n",
       "</table>\n"
      ],
      "text/latex": [
       "A data.frame: 19 × 3\n",
       "\\begin{tabular}{lll}\n",
       " X\\_Z & X\\_2Z & Y\\_Z\\\\\n",
       " <dbl> & <dbl> & <dbl>\\\\\n",
       "\\hline\n",
       "\t  0 &   0 & 22.1\\\\\n",
       "\t  1 &   1 & 24.5\\\\\n",
       "\t  2 &   4 & 26.0\\\\\n",
       "\t  3 &   9 & 26.8\\\\\n",
       "\t  4 &  16 & 28.2\\\\\n",
       "\t  5 &  25 & 28.9\\\\\n",
       "\t  6 &  36 & 30.0\\\\\n",
       "\t  7 &  49 & 30.4\\\\\n",
       "\t  8 &  64 & 31.4\\\\\n",
       "\t  0 &   0 & 21.9\\\\\n",
       "\t  2 &   4 & 26.1\\\\\n",
       "\t  4 &  16 & 28.5\\\\\n",
       "\t  6 &  36 & 30.3\\\\\n",
       "\t  8 &  64 & 31.5\\\\\n",
       "\t 10 & 100 & 33.1\\\\\n",
       "\t  0 &   0 & 22.8\\\\\n",
       "\t  3 &   9 & 27.3\\\\\n",
       "\t  6 &  36 & 29.8\\\\\n",
       "\t  9 &  81 & 31.8\\\\\n",
       "\\end{tabular}\n"
      ],
      "text/markdown": [
       "\n",
       "A data.frame: 19 × 3\n",
       "\n",
       "| X_Z &lt;dbl&gt; | X_2Z &lt;dbl&gt; | Y_Z &lt;dbl&gt; |\n",
       "|---|---|---|\n",
       "|  0 |   0 | 22.1 |\n",
       "|  1 |   1 | 24.5 |\n",
       "|  2 |   4 | 26.0 |\n",
       "|  3 |   9 | 26.8 |\n",
       "|  4 |  16 | 28.2 |\n",
       "|  5 |  25 | 28.9 |\n",
       "|  6 |  36 | 30.0 |\n",
       "|  7 |  49 | 30.4 |\n",
       "|  8 |  64 | 31.4 |\n",
       "|  0 |   0 | 21.9 |\n",
       "|  2 |   4 | 26.1 |\n",
       "|  4 |  16 | 28.5 |\n",
       "|  6 |  36 | 30.3 |\n",
       "|  8 |  64 | 31.5 |\n",
       "| 10 | 100 | 33.1 |\n",
       "|  0 |   0 | 22.8 |\n",
       "|  3 |   9 | 27.3 |\n",
       "|  6 |  36 | 29.8 |\n",
       "|  9 |  81 | 31.8 |\n",
       "\n"
      ],
      "text/plain": [
       "   X_Z X_2Z Y_Z \n",
       "1   0    0  22.1\n",
       "2   1    1  24.5\n",
       "3   2    4  26.0\n",
       "4   3    9  26.8\n",
       "5   4   16  28.2\n",
       "6   5   25  28.9\n",
       "7   6   36  30.0\n",
       "8   7   49  30.4\n",
       "9   8   64  31.4\n",
       "10  0    0  21.9\n",
       "11  2    4  26.1\n",
       "12  4   16  28.5\n",
       "13  6   36  30.3\n",
       "14  8   64  31.5\n",
       "15 10  100  33.1\n",
       "16  0    0  22.8\n",
       "17  3    9  27.3\n",
       "18  6   36  29.8\n",
       "19  9   81  31.8"
      ]
     },
     "metadata": {},
     "output_type": "display_data"
    }
   ],
   "source": [
    "X_Z <- c(0,1,2,3,4,5,6,7,8,0,2,4,6,8,10,0,3,6,9)\n",
    "X_2Z <-X_Z **2\n",
    "Y_Z <- c(22.1,24.5,26.0,26.8,28.2,28.9,30.0,30.4,31.4,21.9,26.1,28.5,30.3,31.5,33.1,22.8,27.3,29.8,31.8)\n",
    "data_Z <- data.frame(X_Z,X_2Z,Y_Z)\n",
    "data_Z"
   ]
  },
  {
   "cell_type": "code",
   "execution_count": 31,
   "metadata": {},
   "outputs": [
    {
     "data": {
      "text/plain": [
       "\n",
       "Call:\n",
       "lm(formula = Y_Z ~ X_Z + X_2Z, data = data_Z)\n",
       "\n",
       "Residuals:\n",
       "     Min       1Q   Median       3Q      Max \n",
       "-0.66123 -0.28558 -0.05606  0.34252  0.65440 \n",
       "\n",
       "Coefficients:\n",
       "            Estimate Std. Error t value Pr(>|t|)    \n",
       "(Intercept) 22.56123    0.19843 113.698  < 2e-16 ***\n",
       "X_Z          1.66802    0.09895  16.857 1.31e-11 ***\n",
       "X_2Z        -0.06796    0.01031  -6.591 6.21e-06 ***\n",
       "---\n",
       "Signif. codes:  0 ‘***’ 0.001 ‘**’ 0.01 ‘*’ 0.05 ‘.’ 0.1 ‘ ’ 1\n",
       "\n",
       "Residual standard error: 0.3942 on 16 degrees of freedom\n",
       "Multiple R-squared:  0.9878,\tAdjusted R-squared:  0.9863 \n",
       "F-statistic: 649.9 on 2 and 16 DF,  p-value: 4.782e-16\n"
      ]
     },
     "metadata": {},
     "output_type": "display_data"
    }
   ],
   "source": [
    "regresion_Z.1 <- lm(Y_Z ~ X_Z+X_2Z, data_Z)\n",
    "summary(regresion_Z.1)"
   ]
  },
  {
   "cell_type": "code",
   "execution_count": 24,
   "metadata": {},
   "outputs": [
    {
     "data": {
      "text/html": [
       "<table>\n",
       "<caption>A anova: 3 × 5</caption>\n",
       "<thead>\n",
       "\t<tr><th></th><th scope=col>Df</th><th scope=col>Sum Sq</th><th scope=col>Mean Sq</th><th scope=col>F value</th><th scope=col>Pr(&gt;F)</th></tr>\n",
       "\t<tr><th></th><th scope=col>&lt;int&gt;</th><th scope=col>&lt;dbl&gt;</th><th scope=col>&lt;dbl&gt;</th><th scope=col>&lt;dbl&gt;</th><th scope=col>&lt;dbl&gt;</th></tr>\n",
       "</thead>\n",
       "<tbody>\n",
       "\t<tr><th scope=row>X_Z</th><td> 1</td><td>195.242888</td><td>195.2428882</td><td>1256.28852</td><td>1.235421e-16</td></tr>\n",
       "\t<tr><th scope=row>X_2Z</th><td> 1</td><td>  6.751565</td><td>  6.7515651</td><td>  43.44288</td><td>6.206331e-06</td></tr>\n",
       "\t<tr><th scope=row>Residuals</th><td>16</td><td>  2.486599</td><td>  0.1554125</td><td>        NA</td><td>          NA</td></tr>\n",
       "</tbody>\n",
       "</table>\n"
      ],
      "text/latex": [
       "A anova: 3 × 5\n",
       "\\begin{tabular}{r|lllll}\n",
       "  & Df & Sum Sq & Mean Sq & F value & Pr(>F)\\\\\n",
       "  & <int> & <dbl> & <dbl> & <dbl> & <dbl>\\\\\n",
       "\\hline\n",
       "\tX\\_Z &  1 & 195.242888 & 195.2428882 & 1256.28852 & 1.235421e-16\\\\\n",
       "\tX\\_2Z &  1 &   6.751565 &   6.7515651 &   43.44288 & 6.206331e-06\\\\\n",
       "\tResiduals & 16 &   2.486599 &   0.1554125 &         NA &           NA\\\\\n",
       "\\end{tabular}\n"
      ],
      "text/markdown": [
       "\n",
       "A anova: 3 × 5\n",
       "\n",
       "| <!--/--> | Df &lt;int&gt; | Sum Sq &lt;dbl&gt; | Mean Sq &lt;dbl&gt; | F value &lt;dbl&gt; | Pr(&gt;F) &lt;dbl&gt; |\n",
       "|---|---|---|---|---|---|\n",
       "| X_Z |  1 | 195.242888 | 195.2428882 | 1256.28852 | 1.235421e-16 |\n",
       "| X_2Z |  1 |   6.751565 |   6.7515651 |   43.44288 | 6.206331e-06 |\n",
       "| Residuals | 16 |   2.486599 |   0.1554125 |         NA |           NA |\n",
       "\n"
      ],
      "text/plain": [
       "          Df Sum Sq     Mean Sq     F value    Pr(>F)      \n",
       "X_Z        1 195.242888 195.2428882 1256.28852 1.235421e-16\n",
       "X_2Z       1   6.751565   6.7515651   43.44288 6.206331e-06\n",
       "Residuals 16   2.486599   0.1554125         NA           NA"
      ]
     },
     "metadata": {},
     "output_type": "display_data"
    }
   ],
   "source": [
    "anova(regresion_Z.1)"
   ]
  },
  {
   "cell_type": "code",
   "execution_count": 30,
   "metadata": {},
   "outputs": [
    {
     "data": {
      "text/plain": [
       "Call:\n",
       "   aov(formula = regresion_Z.1)\n",
       "\n",
       "Terms:\n",
       "                      X_Z      X_2Z Residuals\n",
       "Sum of Squares  195.24289   6.75157   2.48660\n",
       "Deg. of Freedom         1         1        16\n",
       "\n",
       "Residual standard error: 0.3942239\n",
       "Estimated effects may be unbalanced"
      ]
     },
     "metadata": {},
     "output_type": "display_data"
    },
    {
     "data": {
      "text/plain": [
       "            Df Sum Sq Mean Sq F value   Pr(>F)    \n",
       "X_Z          1 195.24  195.24 1256.29  < 2e-16 ***\n",
       "X_2Z         1   6.75    6.75   43.44 6.21e-06 ***\n",
       "Residuals   16   2.49    0.16                     \n",
       "---\n",
       "Signif. codes:  0 ‘***’ 0.001 ‘**’ 0.01 ‘*’ 0.05 ‘.’ 0.1 ‘ ’ 1"
      ]
     },
     "metadata": {},
     "output_type": "display_data"
    }
   ],
   "source": [
    "aov(regresion_Z.1)\n",
    "summary(aov(regresion_Z.1))"
   ]
  },
  {
   "cell_type": "markdown",
   "metadata": {},
   "source": [
    "### Ejercicio z.2"
   ]
  },
  {
   "cell_type": "code",
   "execution_count": 27,
   "metadata": {},
   "outputs": [
    {
     "data": {
      "text/html": [
       "19.4332925343216"
      ],
      "text/latex": [
       "19.4332925343216"
      ],
      "text/markdown": [
       "19.4332925343216"
      ],
      "text/plain": [
       "[1] 19.43329"
      ]
     },
     "metadata": {},
     "output_type": "display_data"
    }
   ],
   "source": [
    "qf(0.95, 16, 2)"
   ]
  },
  {
   "cell_type": "markdown",
   "metadata": {},
   "source": [
    "Teniendose que el valor F empirico es 1299.73 mientras que el valor teorico es 19.4333, con lo que se rechaza H0 y entonces hay algún parametro relevante, de hecho todos lo son."
   ]
  },
  {
   "cell_type": "code",
   "execution_count": null,
   "metadata": {},
   "outputs": [],
   "source": []
  }
 ],
 "metadata": {
  "kernelspec": {
   "display_name": "R",
   "language": "R",
   "name": "ir"
  },
  "language_info": {
   "codemirror_mode": "r",
   "file_extension": ".r",
   "mimetype": "text/x-r-source",
   "name": "R",
   "pygments_lexer": "r",
   "version": "3.5.2"
  }
 },
 "nbformat": 4,
 "nbformat_minor": 4
}
